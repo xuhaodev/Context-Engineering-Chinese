{
 "cells": [
  {
   "cell_type": "markdown",
   "id": "40f8f033",
   "metadata": {},
   "source": [
    "Context-Engineering：多步 LLM 交互的控制循环\n",
    "==========================================\n",
    "\n",
    "本模块演示如何实现控制流机制，以编排复杂的多步 LLM 交互。在前面笔记本中的上下文扩展技术基础上，我们现在探索以下模式：\n",
    "\n",
    "1. 顺序链式（一个步骤的输出 → 下一个步骤的输入）\n",
    "2. 迭代优化（通过循环不断改进响应）\n",
    "3. 条件分支（根据 LLM 输出走不同路径）\n",
    "4. 自我批评与修正（对输出进行元评估）\n",
    "5. 外部验证循环（使用工具/知识进行验证）\n",
    "\n",
    "这些模式的实现重点在于令牌效率和跨步骤保持上下文一致性。\n",
    "\n",
    "用法：\n",
    "    # 在 Jupyter 或 Colab 中：\n",
    "    %run 03_control_loops.py\n",
    "    # 或\n",
    "    from control_loops import SequentialChain, IterativeRefiner, ConditionalBrancher\n"
   ]
  },
  {
   "cell_type": "code",
   "execution_count": 22,
   "id": "9b7ac3d7",
   "metadata": {},
   "outputs": [],
   "source": [
    "import os\n",
    "import re\n",
    "import json\n",
    "import time\n",
    "import tiktoken\n",
    "from typing import Dict, List, Tuple, Any, Optional, Union, Callable, TypeVar\n",
    "\n",
    "# 更好的类型提示的类型变量\n",
    "T = TypeVar('T')\n",
    "Response = Union[str, Dict[str, Any]]\n",
    "\n",
    "# 用于日志记录和可视化\n",
    "import logging\n",
    "import numpy as np\n",
    "import matplotlib.pyplot as plt\n",
    "from IPython.display import display, Markdown, HTML\n",
    "\n",
    "# 配置日志\n",
    "logging.basicConfig(\n",
    "    level=logging.INFO,\n",
    "    format='%(asctime)s - %(name)s - %(levelname)s - %(message)s'\n",
    ")\n",
    "logger = logging.getLogger(__name__)\n",
    "\n",
    "# # 设置 API 客户端\n",
    "try:\n",
    "    from openai import OpenAI\n",
    "    OPENAI_AVAILABLE = True\n",
    "except ImportError:\n",
    "    OPENAI_AVAILABLE = False\n",
    "    logger.warning(\"未找到 OpenAI 包。请安装：pip install openai\")\n",
    "\n",
    "try:\n",
    "    import dotenv\n",
    "    dotenv.load_dotenv()\n",
    "    ENV_LOADED = True\n",
    "except ImportError:\n",
    "    ENV_LOADED = False\n",
    "    logger.warning(\"未找到 python-dotenv。请安装：pip install python-dotenv\")\n",
    "\n",
    "# 常量\n",
    "DEFAULT_MODEL = \"openai/gpt-4.1\"\n",
    "DEFAULT_TEMPERATURE = 0.7\n",
    "DEFAULT_MAX_TOKENS = 500\n",
    "\n",
    "# 辅助函数\n",
    "# ================\n",
    "\n",
    "def setup_client(api_key=None, model=DEFAULT_MODEL):\n",
    "    \"\"\"\n",
    "    设置用于 LLM 交互的 API 客户端。\n",
    "\n",
    "    参数：\n",
    "        api_key: API 密钥（如果为 None，将在环境变量中查找 OPENAI_API_KEY）\n",
    "        model: 要使用的模型名称\n",
    "\n",
    "    返回：\n",
    "        tuple: (客户端, 模型名称)\n",
    "    \"\"\"\n",
    "    if api_key is None:\n",
    "        api_key = os.environ.get(\"GITHUB_TOKEN\")\n",
    "        if api_key is None and not ENV_LOADED:\n",
    "            logger.warning(\"未找到 API 密钥。请设置 OPENAI_API_KEY 环境变量或传递 api_key 参数。\")\n",
    "    \n",
    "    if OPENAI_AVAILABLE:\n",
    "        client = OpenAI(\n",
    "            base_url=\"https://models.github.ai/inference\",\n",
    "            api_key=api_key,\n",
    "        )\n",
    "        return client, model\n",
    "    else:\n",
    "        logger.error(\"需要 OpenAI 包。请安装：pip install openai\")\n",
    "        return None, model\n",
    "\n",
    "\n",
    "def count_tokens(text: str, model: str = \"cl100k_base\") -> int:\n",
    "    \"\"\"\n",
    "    使用适当的分词器计算文本字符串中的令牌数。\n",
    "\n",
    "    参数：\n",
    "        text: 要分词的文本\n",
    "        model: 用于分词的模型名称\n",
    "\n",
    "    返回：\n",
    "        int: 令牌数量\n",
    "    \"\"\"\n",
    "    try:\n",
    "        encoding = tiktoken.get_encoding(\"cl100k_base\")\n",
    "        return len(encoding.encode(text))\n",
    "    except Exception as e:\n",
    "        # 当 tiktoken 不支持该模型时的回退方案\n",
    "        logger.warning(f\"无法为 {model} 使用 tiktoken：{e}\")\n",
    "        # 粗略估算：英文中 1 个令牌 ≈ 4 个字符\n",
    "        return len(text) // 4\n",
    "\n",
    "\n",
    "def generate_response(\n",
    "    prompt: str,\n",
    "    client=None,\n",
    "    model: str = DEFAULT_MODEL,\n",
    "    temperature: float = DEFAULT_TEMPERATURE,\n",
    "    max_tokens: int = DEFAULT_MAX_TOKENS,\n",
    "    system_message: str = \"你是一个有用的助手。\"\n",
    ") -> Tuple[str, Dict[str, Any]]:\n",
    "    \"\"\"\n",
    "    从 LLM 生成响应并返回元数据。\n",
    "\n",
    "    参数：\n",
    "        prompt: 要发送的提示\n",
    "        client: API 客户端（如果为 None，将创建一个）\n",
    "        model: 模型名称\n",
    "        temperature: 温度参数\n",
    "        max_tokens: 生成的最大令牌数\n",
    "        system_message: 要使用的系统消息\n",
    "\n",
    "    返回：\n",
    "        tuple: (响应文本, 元数据)\n",
    "    \"\"\"\n",
    "    if client is None:\n",
    "        client, model = setup_client(model=model)\n",
    "        if client is None:\n",
    "            return \"错误：没有可用的 API 客户端\", {\"error\": \"没有 API 客户端\"}\n",
    "    \n",
    "    prompt_tokens = count_tokens(prompt, model)\n",
    "    system_tokens = count_tokens(system_message, model)\n",
    "    \n",
    "    metadata = {\n",
    "        \"prompt_tokens\": prompt_tokens,\n",
    "        \"system_tokens\": system_tokens,\n",
    "        \"model\": model,\n",
    "        \"temperature\": temperature,\n",
    "        \"max_tokens\": max_tokens,\n",
    "        \"timestamp\": time.time()\n",
    "    }\n",
    "    \n",
    "    try:\n",
    "        start_time = time.time()\n",
    "        response = client.chat.completions.create(\n",
    "            model=model,\n",
    "            messages=[\n",
    "                {\"role\": \"system\", \"content\": system_message},\n",
    "                {\"role\": \"user\", \"content\": prompt}\n",
    "            ],\n",
    "            temperature=temperature,\n",
    "            max_tokens=max_tokens\n",
    "        )\n",
    "        latency = time.time() - start_time\n",
    "        \n",
    "        response_text = response.choices[0].message.content\n",
    "        response_tokens = count_tokens(response_text, model)\n",
    "        \n",
    "        metadata.update({\n",
    "            \"latency\": latency,\n",
    "            \"response_tokens\": response_tokens,\n",
    "            \"total_tokens\": prompt_tokens + system_tokens + response_tokens,\n",
    "            \"token_efficiency\": response_tokens / (prompt_tokens + system_tokens) if (prompt_tokens + system_tokens) > 0 else 0,\n",
    "            \"tokens_per_second\": response_tokens / latency if latency > 0 else 0\n",
    "        })\n",
    "        \n",
    "        return response_text, metadata\n",
    "    \n",
    "    except Exception as e:\n",
    "        logger.error(f\"生成响应时出错：{e}\")\n",
    "        metadata[\"error\"] = str(e)\n",
    "        return f\"错误：{str(e)}\", metadata\n",
    "\n",
    "\n",
    "def format_metrics(metrics: Dict[str, Any]) -> str:\n",
    "    \"\"\"\n",
    "    将指标字典格式化为可读字符串。\n",
    "    \n",
    "    参数：\n",
    "        metrics: 指标字典\n",
    "        \n",
    "    返回：\n",
    "        str: 格式化的指标字符串\n",
    "    \"\"\"\n",
    "    # 选择要显示的最重要的指标\n",
    "    key_metrics = {\n",
    "        \"提示令牌数\": metrics.get(\"prompt_tokens\", 0),\n",
    "        \"响应令牌数\": metrics.get(\"response_tokens\", 0),\n",
    "        \"总令牌数\": metrics.get(\"total_tokens\", 0),\n",
    "        \"延迟\": f\"{metrics.get('latency', 0):.2f}秒\",\n",
    "        \"令牌效率\": f\"{metrics.get('token_efficiency', 0):.2f}\"\n",
    "    }\n",
    "    \n",
    "    return \" | \".join([f\"{k}: {v}\" for k, v in key_metrics.items()])\n",
    "\n",
    "\n",
    "def display_response(\n",
    "    prompt: str,\n",
    "    response: str,\n",
    "    metrics: Dict[str, Any],\n",
    "    show_prompt: bool = True\n",
    ") -> None:\n",
    "    \"\"\"\n",
    "    在笔记本中显示提示-响应对和指标。\n",
    "    \n",
    "    参数：\n",
    "        prompt: 提示文本\n",
    "        response: 响应文本\n",
    "        metrics: 指标字典\n",
    "        show_prompt: 是否显示提示文本\n",
    "    \"\"\"\n",
    "    if show_prompt:\n",
    "        display(HTML(\"<h4>提示：</h4>\"))\n",
    "        display(Markdown(f\"```\\n{prompt}\\n```\"))\n",
    "    \n",
    "    display(HTML(\"<h4>响应：</h4>\"))\n",
    "    display(Markdown(response))\n",
    "    \n",
    "    display(HTML(\"<h4>指标：</h4>\"))\n",
    "    display(Markdown(f\"```\\n{format_metrics(metrics)}\\n```\"))\n"
   ]
  },
  {
   "cell_type": "code",
   "execution_count": 14,
   "id": "10d4f1c9",
   "metadata": {},
   "outputs": [],
   "source": [
    "# 控制循环基类\n",
    "# =========================\n",
    "\n",
    "class ControlLoop:\n",
    "    \"\"\"\n",
    "    所有控制循环实现的基类。\n",
    "    提供跟踪指标和历史记录的通用功能。\n",
    "    \"\"\"\n",
    "    \n",
    "    def __init__(\n",
    "        self,\n",
    "        client=None,\n",
    "        model: str = DEFAULT_MODEL,\n",
    "        system_message: str = \"您是一个有帮助的助手。\",\n",
    "        max_tokens: int = DEFAULT_MAX_TOKENS,\n",
    "        temperature: float = DEFAULT_TEMPERATURE,\n",
    "        verbose: bool = False\n",
    "    ):\n",
    "        \"\"\"\n",
    "        初始化控制循环。\n",
    "        \n",
    "        参数:\n",
    "            client: API客户端（如果为None，将创建一个）\n",
    "            model: 要使用的模型名称\n",
    "            system_message: 要使用的系统消息\n",
    "            max_tokens: 生成的最大令牌数\n",
    "            temperature: 温度参数\n",
    "            verbose: 是否打印调试信息\n",
    "        \"\"\"\n",
    "        self.client, self.model = setup_client(model=model) if client is None else (client, model)\n",
    "        self.system_message = system_message\n",
    "        self.max_tokens = max_tokens\n",
    "        self.temperature = temperature\n",
    "        self.verbose = verbose\n",
    "        \n",
    "        # 初始化历史记录和指标跟踪\n",
    "        self.history = []\n",
    "        self.metrics = {\n",
    "            \"total_prompt_tokens\": 0,\n",
    "            \"total_response_tokens\": 0,\n",
    "            \"total_tokens\": 0,\n",
    "            \"total_latency\": 0,\n",
    "            \"steps\": 0\n",
    "        }\n",
    "    \n",
    "    def _log(self, message: str) -> None:\n",
    "        \"\"\"\n",
    "        如果启用了详细模式，则记录消息。\n",
    "        \n",
    "        参数:\n",
    "            message: 要记录的消息\n",
    "        \"\"\"\n",
    "        if self.verbose:\n",
    "            logger.info(message)\n",
    "    \n",
    "    def _call_llm(\n",
    "        self,\n",
    "        prompt: str,\n",
    "        custom_system_message: Optional[str] = None\n",
    "    ) -> Tuple[str, Dict[str, Any]]:\n",
    "        \"\"\"\n",
    "        调用LLM并更新指标。\n",
    "        \n",
    "        参数:\n",
    "            prompt: 要发送的提示\n",
    "            custom_system_message: 覆盖系统消息（可选）\n",
    "            \n",
    "        返回:\n",
    "            tuple: (响应文本, 元数据)\n",
    "        \"\"\"\n",
    "        system_msg = custom_system_message if custom_system_message else self.system_message\n",
    "        \n",
    "        response, metadata = generate_response(\n",
    "            prompt=prompt,\n",
    "            client=self.client,\n",
    "            model=self.model,\n",
    "            temperature=self.temperature,\n",
    "            max_tokens=self.max_tokens,\n",
    "            system_message=system_msg\n",
    "        )\n",
    "        \n",
    "        # 更新指标\n",
    "        self.metrics[\"total_prompt_tokens\"] += metadata.get(\"prompt_tokens\", 0)\n",
    "        self.metrics[\"total_response_tokens\"] += metadata.get(\"response_tokens\", 0)\n",
    "        self.metrics[\"total_tokens\"] += metadata.get(\"total_tokens\", 0)\n",
    "        self.metrics[\"total_latency\"] += metadata.get(\"latency\", 0)\n",
    "        self.metrics[\"steps\"] += 1\n",
    "        \n",
    "        # 添加到历史记录\n",
    "        step_record = {\n",
    "            \"prompt\": prompt,\n",
    "            \"response\": response,\n",
    "            \"metrics\": metadata,\n",
    "            \"timestamp\": time.time()\n",
    "        }\n",
    "        self.history.append(step_record)\n",
    "        \n",
    "        return response, metadata\n",
    "    \n",
    "    def get_summary_metrics(self) -> Dict[str, Any]:\n",
    "        \"\"\"\n",
    "        获取所有步骤的汇总指标。\n",
    "        \n",
    "        返回:\n",
    "            dict: 汇总指标\n",
    "        \"\"\"\n",
    "        summary = self.metrics.copy()\n",
    "        \n",
    "        # 添加派生指标\n",
    "        if summary[\"steps\"] > 0:\n",
    "            summary[\"avg_latency_per_step\"] = summary[\"total_latency\"] / summary[\"steps\"]\n",
    "            \n",
    "        if summary[\"total_prompt_tokens\"] > 0:\n",
    "            summary[\"overall_efficiency\"] = (\n",
    "                summary[\"total_response_tokens\"] / summary[\"total_prompt_tokens\"]\n",
    "            )\n",
    "        \n",
    "        return summary\n",
    "    \n",
    "    def visualize_metrics(self) -> None:\n",
    "        \"\"\"\n",
    "        创建跨步骤的指标可视化。\n",
    "        \"\"\"\n",
    "        if not self.history:\n",
    "            logger.warning(\"没有可视化的历史记录\")\n",
    "            return\n",
    "        \n",
    "        # 提取绘图数据\n",
    "        steps = list(range(1, len(self.history) + 1))\n",
    "        prompt_tokens = [h[\"metrics\"].get(\"prompt_tokens\", 0) for h in self.history]\n",
    "        response_tokens = [h[\"metrics\"].get(\"response_tokens\", 0) for h in self.history]\n",
    "        latencies = [h[\"metrics\"].get(\"latency\", 0) for h in self.history]\n",
    "        efficiencies = [h[\"metrics\"].get(\"token_efficiency\", 0) for h in self.history]\n",
    "\n",
    "        # 设置中文字体\n",
    "        plt.rcParams['font.sans-serif'] = ['SimHei', 'Arial Unicode MS', 'DejaVu Sans']\n",
    "        plt.rcParams['axes.unicode_minus'] = False\n",
    "        \n",
    "        # 创建图形\n",
    "        fig, axes = plt.subplots(2, 2, figsize=(12, 8))\n",
    "        fig.suptitle(\"按步骤划分的控制循环指标\", fontsize=16)\n",
    "        \n",
    "        # 图1：令牌使用\n",
    "        axes[0, 0].bar(steps, prompt_tokens, label=\"提示令牌\", color=\"blue\", alpha=0.7)\n",
    "        axes[0, 0].bar(steps, response_tokens, bottom=prompt_tokens, label=\"响应令牌\", \n",
    "                       color=\"green\", alpha=0.7)\n",
    "        axes[0, 0].set_title(\"令牌使用\")\n",
    "        axes[0, 0].set_xlabel(\"步骤\")\n",
    "        axes[0, 0].set_ylabel(\"令牌数\")\n",
    "        axes[0, 0].legend()\n",
    "        axes[0, 0].grid(alpha=0.3)\n",
    "        \n",
    "        # 图2：延迟\n",
    "        axes[0, 1].plot(steps, latencies, marker='o', color=\"red\", alpha=0.7)\n",
    "        axes[0, 1].set_title(\"延迟\")\n",
    "        axes[0, 1].set_xlabel(\"步骤\")\n",
    "        axes[0, 1].set_ylabel(\"秒数\")\n",
    "        axes[0, 1].grid(alpha=0.3)\n",
    "        \n",
    "        # 图3：令牌效率\n",
    "        axes[1, 0].plot(steps, efficiencies, marker='s', color=\"purple\", alpha=0.7)\n",
    "        axes[1, 0].set_title(\"令牌效率（响应/提示）\")\n",
    "        axes[1, 0].set_xlabel(\"步骤\")\n",
    "        axes[1, 0].set_ylabel(\"比率\")\n",
    "        axes[1, 0].grid(alpha=0.3)\n",
    "        \n",
    "        # 图4：累积令牌数\n",
    "        cumulative_tokens = np.cumsum([h[\"metrics\"].get(\"total_tokens\", 0) for h in self.history])\n",
    "        axes[1, 1].plot(steps, cumulative_tokens, marker='^', color=\"orange\", alpha=0.7)\n",
    "        axes[1, 1].set_title(\"累积令牌使用\")\n",
    "        axes[1, 1].set_xlabel(\"步骤\")\n",
    "        axes[1, 1].set_ylabel(\"总令牌数\")\n",
    "        axes[1, 1].grid(alpha=0.3)\n",
    "        \n",
    "        plt.tight_layout()\n",
    "        plt.subplots_adjust(top=0.9)\n",
    "        plt.show()\n",
    "\n",
    "\n",
    "class SequentialChain(ControlLoop):\n",
    "    \"\"\"\n",
    "    一个顺序链式控制循环，将多个步骤串联起来，每一步的输出作为下一步的输入。\n",
    "    \"\"\"\n",
    "    \n",
    "    def __init__(self, steps: List[Dict[str, Any]], **kwargs):\n",
    "        \"\"\"\n",
    "        初始化顺序链。\n",
    "        \n",
    "        参数:\n",
    "            steps: 步骤配置列表，每个包含：\n",
    "                - prompt_template: 带有 {input} 占位符的字符串\n",
    "                - system_message: （可选）自定义系统消息\n",
    "                - name: （可选）步骤名称\n",
    "            **kwargs: 传递给 ControlLoop 的其他参数\n",
    "        \"\"\"\n",
    "        super().__init__(**kwargs)\n",
    "        self.steps = steps\n",
    "        self._validate_steps()\n",
    "    \n",
    "    def _validate_steps(self) -> None:\n",
    "        \"\"\"校验步骤配置。\"\"\"\n",
    "        for i, step in enumerate(self.steps):\n",
    "            if \"prompt_template\" not in step:\n",
    "                raise ValueError(f\"第 {i} 步缺少 'prompt_template'\")\n",
    "            \n",
    "            # 确保每步有名称\n",
    "            if \"name\" not in step:\n",
    "                step[\"name\"] = f\"step_{i+1}\"\n",
    "    \n",
    "    def run(self, initial_input: str) -> Tuple[str, Dict[str, Any]]:\n",
    "        \"\"\"\n",
    "        使用初始输入运行顺序链。\n",
    "        \n",
    "        参数:\n",
    "            initial_input: 第一步的输入\n",
    "            \n",
    "        返回:\n",
    "            tuple: (最终输出, 所有步骤输出)\n",
    "        \"\"\"\n",
    "        current_input = initial_input\n",
    "        all_outputs = {\"initial_input\": initial_input}\n",
    "        \n",
    "        for i, step in enumerate(self.steps):\n",
    "            step_name = step[\"name\"]\n",
    "            self._log(f\"运行第 {i+1}/{len(self.steps)} 步: {step_name}\")\n",
    "            \n",
    "            # 使用当前输入格式化提示\n",
    "            prompt = step[\"prompt_template\"].format(input=current_input)\n",
    "            system_message = step.get(\"system_message\", self.system_message)\n",
    "            \n",
    "            # 调用 LLM\n",
    "            response, metadata = self._call_llm(prompt, system_message)\n",
    "            \n",
    "            # 保存输出\n",
    "            all_outputs[step_name] = {\n",
    "                \"prompt\": prompt,\n",
    "                \"response\": response,\n",
    "                \"metrics\": metadata\n",
    "            }\n",
    "            \n",
    "            # 更新下一步输入\n",
    "            current_input = response\n",
    "        \n",
    "        return current_input, all_outputs\n",
    "    \n",
    "    def display_chain_results(self, all_outputs: Dict[str, Any]) -> None:\n",
    "        \"\"\"\n",
    "        在笔记本中展示链式步骤的结果。\n",
    "        \n",
    "        参数:\n",
    "            all_outputs: run() 的输出字典\n",
    "        \"\"\"\n",
    "        display(HTML(\"<h2>顺序链结果展示</h2>\"))\n",
    "        \n",
    "        # 展示初始输入\n",
    "        display(HTML(\"<h3>初始输入</h3>\"))\n",
    "        display(Markdown(all_outputs[\"initial_input\"]))\n",
    "        \n",
    "        # 展示每一步\n",
    "        for i, step in enumerate(self.steps):\n",
    "            step_name = step[\"name\"]\n",
    "            if step_name in all_outputs:\n",
    "                step_output = all_outputs[step_name]\n",
    "                \n",
    "                display(HTML(f\"<h3>第 {i+1} 步: {step_name}</h3>\"))\n",
    "                \n",
    "                # 展示提示\n",
    "                display(HTML(\"<h4>提示：</h4>\"))\n",
    "                display(Markdown(f\"```\\n{step_output['prompt']}\\n```\"))\n",
    "                \n",
    "                # 展示响应\n",
    "                display(HTML(\"<h4>响应：</h4>\"))\n",
    "                display(Markdown(step_output[\"response\"]))\n",
    "                \n",
    "                # 展示指标\n",
    "                display(HTML(\"<h4>指标：</h4>\"))\n",
    "                display(Markdown(f\"```\\n{format_metrics(step_output['metrics'])}\\n```\"))\n",
    "        \n",
    "        # 展示汇总指标\n",
    "        display(HTML(\"<h3>汇总指标</h3>\"))\n",
    "        summary = self.get_summary_metrics()\n",
    "        display(Markdown(f\"\"\"\n",
    "        - 总步骤数: {summary['steps']}\n",
    "        - 总令牌数: {summary['total_tokens']}\n",
    "        - 总延迟: {summary['total_latency']:.2f}秒\n",
    "        - 每步平均延迟: {summary.get('avg_latency_per_step', 0):.2f}秒\n",
    "        - 总体效率: {summary.get('overall_efficiency', 0):.2f}\n",
    "        \"\"\"))\n",
    "\n",
    "\n",
    "class IterativeRefiner(ControlLoop):\n",
    "    \"\"\"\n",
    "    一个迭代式细化控制循环，通过多轮反馈和改进不断优化输出，直到满足停止条件。\n",
    "    \"\"\"\n",
    "    \n",
    "    def __init__(\n",
    "        self,\n",
    "        max_iterations: int = 5,\n",
    "        refinement_template: str = \"请改进以下文本：{previous_response}\\n\\n需要的具体改进：{feedback}\",\n",
    "        feedback_template: str = \"请评估此回答的质量，并提出具体改进建议：{response}\",\n",
    "        stopping_condition: Optional[Callable[[str, Dict[str, Any]], bool]] = None,\n",
    "        **kwargs\n",
    "    ):\n",
    "        \"\"\"\n",
    "        初始化迭代细化器。\n",
    "        \n",
    "        参数:\n",
    "            max_iterations: 最大细化轮数\n",
    "            refinement_template: 细化提示模板\n",
    "            feedback_template: 生成反馈的提示模板\n",
    "            stopping_condition: 判断是否停止细化的函数，参数为 (response, metadata)，返回 True 时停止\n",
    "            **kwargs: 传递给 ControlLoop 的其他参数\n",
    "        \"\"\"\n",
    "        super().__init__(**kwargs)\n",
    "        self.max_iterations = max_iterations\n",
    "        self.refinement_template = refinement_template\n",
    "        self.feedback_template = feedback_template\n",
    "        self.stopping_condition = stopping_condition\n",
    "    \n",
    "    def generate_feedback(self, response: str) -> Tuple[str, Dict[str, Any]]:\n",
    "        \"\"\"\n",
    "        针对当前回答生成反馈。\n",
    "        \n",
    "        参数:\n",
    "            response: 当前需要评估的回答\n",
    "            \n",
    "        返回:\n",
    "            tuple: (反馈文本, 元数据)\n",
    "        \"\"\"\n",
    "        prompt = self.feedback_template.format(response=response)\n",
    "        return self._call_llm(prompt)\n",
    "    \n",
    "    def refine_response(\n",
    "        self,\n",
    "        previous_response: str,\n",
    "        feedback: str\n",
    "    ) -> Tuple[str, Dict[str, Any]]:\n",
    "        \"\"\"\n",
    "        根据反馈细化回答。\n",
    "        \n",
    "        参数:\n",
    "            previous_response: 需要细化的上一次回答\n",
    "            feedback: 用于细化的反馈内容\n",
    "            \n",
    "        返回:\n",
    "            tuple: (细化后的回答, 元数据)\n",
    "        \"\"\"\n",
    "        prompt = self.refinement_template.format(\n",
    "            previous_response=previous_response,\n",
    "            feedback=feedback\n",
    "        )\n",
    "        return self._call_llm(prompt)\n",
    "    \n",
    "    def run(\n",
    "        self,\n",
    "        initial_prompt: str,\n",
    "        use_auto_feedback: bool = True\n",
    "    ) -> Tuple[str, Dict[str, List[Dict[str, Any]]]]:\n",
    "        \"\"\"\n",
    "        执行迭代细化流程。\n",
    "        \n",
    "        参数:\n",
    "            initial_prompt: 首次生成回答的提示\n",
    "            use_auto_feedback: 是否自动生成反馈（如为 False，则需手动输入反馈）\n",
    "                              \n",
    "        返回:\n",
    "            tuple: (最终回答, 细化历史)\n",
    "        \"\"\"\n",
    "        # 生成初始回答\n",
    "        self._log(\"生成初始回答\")\n",
    "        current_response, metadata = self._call_llm(initial_prompt)\n",
    "        \n",
    "        refinement_history = {\n",
    "            \"initial\": {\n",
    "                \"prompt\": initial_prompt,\n",
    "                \"response\": current_response,\n",
    "                \"metrics\": metadata\n",
    "            },\n",
    "            \"iterations\": []\n",
    "        }\n",
    "        \n",
    "        # 迭代细化循环\n",
    "        iteration = 0\n",
    "        should_continue = True\n",
    "        \n",
    "        while should_continue and iteration < self.max_iterations:\n",
    "            iteration += 1\n",
    "            self._log(f\"细化轮次 {iteration}/{self.max_iterations}\")\n",
    "            \n",
    "            # 生成反馈\n",
    "            if use_auto_feedback:\n",
    "                feedback, feedback_metadata = self.generate_feedback(current_response)\n",
    "                self._log(f\"自动反馈：{feedback}\")\n",
    "            else:\n",
    "                # 手动反馈模式\n",
    "                print(f\"\\n\\n当前回答（第 {iteration} 轮）：\")\n",
    "                print(\"-\" * 80)\n",
    "                print(current_response)\n",
    "                print(\"-\" * 80)\n",
    "                feedback = input(\"请输入您的反馈（输入 'stop' 结束细化）：\")\n",
    "                \n",
    "                if feedback.lower() == 'stop':\n",
    "                    break\n",
    "                \n",
    "                feedback_metadata = {\"manual\": True}\n",
    "            \n",
    "            # 细化回答\n",
    "            refined_response, refine_metadata = self.refine_response(current_response, feedback)\n",
    "            \n",
    "            # 记录本轮细化\n",
    "            refinement_history[\"iterations\"].append({\n",
    "                \"iteration\": iteration,\n",
    "                \"feedback\": feedback,\n",
    "                \"feedback_metrics\": feedback_metadata,\n",
    "                \"refined_response\": refined_response,\n",
    "                \"refinement_metrics\": refine_metadata\n",
    "            })\n",
    "            \n",
    "            # 更新当前回答\n",
    "            current_response = refined_response\n",
    "            \n",
    "            # 检查停止条件\n",
    "            if self.stopping_condition:\n",
    "                should_continue = not self.stopping_condition(current_response, refine_metadata)\n",
    "        \n",
    "        return current_response, refinement_history\n",
    "    \n",
    "    def display_refinement_history(self, refinement_history: Dict[str, Any]) -> None:\n",
    "        \"\"\"\n",
    "        在笔记本中展示细化历史。\n",
    "        \n",
    "        参数:\n",
    "            refinement_history: run() 返回的细化历史\n",
    "        \"\"\"\n",
    "        display(HTML(\"<h2>迭代细化结果</h2>\"))\n",
    "        \n",
    "        # 展示初始提示和回答\n",
    "        display(HTML(\"<h3>初始提示</h3>\"))\n",
    "        display(Markdown(f\"```\\n{refinement_history['initial']['prompt']}\\n```\"))\n",
    "        \n",
    "        display(HTML(\"<h3>初始回答</h3>\"))\n",
    "        display(Markdown(refinement_history['initial']['response']))\n",
    "        \n",
    "        # 展示每轮细化\n",
    "        for iteration in refinement_history[\"iterations\"]:\n",
    "            iteration_num = iteration[\"iteration\"]\n",
    "            \n",
    "            display(HTML(f\"<h3>第 {iteration_num} 轮</h3>\"))\n",
    "            \n",
    "            # 展示反馈\n",
    "            display(HTML(\"<h4>反馈：</h4>\"))\n",
    "            display(Markdown(iteration[\"feedback\"]))\n",
    "            \n",
    "            # 展示细化后的回答\n",
    "            display(HTML(\"<h4>细化后回答：</h4>\"))\n",
    "            display(Markdown(iteration[\"refined_response\"]))\n",
    "            \n",
    "            # 展示指标\n",
    "            display(HTML(\"<h4>指标：</h4>\"))\n",
    "            metrics = iteration[\"refinement_metrics\"]\n",
    "            display(Markdown(f\"```\\n{format_metrics(metrics)}\\n```\"))\n",
    "        \n",
    "        # 展示汇总\n",
    "        display(HTML(\"<h3>细化汇总</h3>\"))\n",
    "        total_iterations = len(refinement_history[\"iterations\"])\n",
    "        display(Markdown(f\"\"\"\n",
    "        - 初始提示令牌数: {refinement_history['initial']['metrics']['prompt_tokens']}\n",
    "        - 初始回答令牌数: {refinement_history['initial']['metrics']['response_tokens']}\n",
    "        - 总细化轮数: {total_iterations}\n",
    "        - 最终回答令牌数: {refinement_history['iterations'][-1]['refinement_metrics']['response_tokens'] if total_iterations > 0 else refinement_history['initial']['metrics']['response_tokens']}\n",
    "        \"\"\"))\n",
    "\n",
    "\n",
    "class ConditionalBrancher(ControlLoop):\n",
    "    \"\"\"\n",
    "    一个实现条件分支的控制循环，根据LLM输出进行不同的执行路径选择。\n",
    "    \"\"\"\n",
    "    \n",
    "    def __init__(\n",
    "        self,\n",
    "        branches: Dict[str, Dict[str, Any]],\n",
    "        classifier_template: str = \"分析以下输入，并将其精确分类为以下类别之一：{categories}。\\n\\n输入：{input}\\n\\n类别：\",\n",
    "        **kwargs\n",
    "    ):\n",
    "        \"\"\"\n",
    "        初始化条件分支器。\n",
    "        \n",
    "        参数:\n",
    "            branches: 分支名称到配置的字典，每个配置包含：\n",
    "                - prompt_template: 带有 {input} 占位符的字符串\n",
    "                - system_message: （可选）自定义系统消息\n",
    "            classifier_template: 分类提示模板\n",
    "            **kwargs: 传递给 ControlLoop 的其他参数\n",
    "        \"\"\"\n",
    "        super().__init__(**kwargs)\n",
    "        self.branches = branches\n",
    "        self.classifier_template = classifier_template\n",
    "        self._validate_branches()\n",
    "    \n",
    "    def _validate_branches(self) -> None:\n",
    "        \"\"\"校验分支配置。\"\"\"\n",
    "        if not self.branches:\n",
    "            raise ValueError(\"未定义分支\")\n",
    "        \n",
    "        for branch_name, config in self.branches.items():\n",
    "            if \"prompt_template\" not in config:\n",
    "                raise ValueError(f\"分支 '{branch_name}' 缺少 'prompt_template'\")\n",
    "    \n",
    "    def classify_input(self, input_text: str) -> Tuple[str, Dict[str, Any]]:\n",
    "        \"\"\"\n",
    "        对输入进行分类以确定选择哪个分支。\n",
    "        \n",
    "        参数:\n",
    "            input_text: 需要分类的输入文本\n",
    "            \n",
    "        返回:\n",
    "            tuple: (分支名称, 元数据)\n",
    "        \"\"\"\n",
    "        categories = list(self.branches.keys())\n",
    "        categories_str = \", \".join(categories)\n",
    "        \n",
    "        prompt = self.classifier_template.format(\n",
    "            categories=categories_str,\n",
    "            input=input_text\n",
    "        )\n",
    "        \n",
    "        # 分类时使用专用系统消息\n",
    "        system_message = \"你是一个分类器，能够精确地对输入进行分类。\"\n",
    "        response, metadata = self._call_llm(prompt, system_message)\n",
    "        \n",
    "        # 尝试精确匹配类别\n",
    "        for category in categories:\n",
    "            if category.lower() in response.lower():\n",
    "                return category, metadata\n",
    "        \n",
    "        # 如果没有精确匹配，则取第一行并寻找最接近的类别\n",
    "        first_line = response.strip().split('\\n')[0].lower()\n",
    "        \n",
    "        best_match = None\n",
    "        best_score = 0\n",
    "        \n",
    "        for category in categories:\n",
    "            # 简单的字符串相似度评分\n",
    "            cat_lower = category.lower()\n",
    "            matches = sum(c in first_line for c in cat_lower)\n",
    "            score = matches / len(cat_lower) if len(cat_lower) > 0 else 0\n",
    "            \n",
    "            if score > best_score:\n",
    "                best_score = score\n",
    "                best_match = category\n",
    "        \n",
    "        if best_match and best_score > 0.5:\n",
    "            return best_match, metadata\n",
    "        \n",
    "        # 如果没有匹配则回退到第一个分支\n",
    "        self._log(f\"警告：无法分类输入，使用第一个分支：{categories[0]}\")\n",
    "        return categories[0], metadata\n",
    "    \n",
    "    def execute_branch(\n",
    "        self,\n",
    "        branch_name: str,\n",
    "        input_text: str\n",
    "    ) -> Tuple[str, Dict[str, Any]]:\n",
    "        \"\"\"\n",
    "        使用指定输入执行某个分支。\n",
    "        \n",
    "        参数:\n",
    "            branch_name: 要执行的分支名称\n",
    "            input_text: 分支的输入文本\n",
    "            \n",
    "        返回:\n",
    "            tuple: (响应, 元数据)\n",
    "        \"\"\"\n",
    "        if branch_name not in self.branches:\n",
    "            raise ValueError(f\"未知分支: {branch_name}\")\n",
    "        \n",
    "        branch_config = self.branches[branch_name]\n",
    "        prompt = branch_config[\"prompt_template\"].format(input=input_text)\n",
    "        system_message = branch_config.get(\"system_message\", self.system_message)\n",
    "        \n",
    "        return self._call_llm(prompt, system_message)\n",
    "    \n",
    "    def run(\n",
    "        self,\n",
    "        input_text: str,\n",
    "        branch_name: Optional[str] = None\n",
    "    ) -> Tuple[str, Dict[str, Any]]:\n",
    "        \"\"\"\n",
    "        执行条件分支流程。\n",
    "        \n",
    "        参数:\n",
    "            input_text: 要处理的输入文本\n",
    "            branch_name: 可选，指定分支（跳过分类）\n",
    "            \n",
    "        返回:\n",
    "            tuple: (响应, 运行详情)\n",
    "        \"\"\"\n",
    "        run_details = {\"input\": input_text}\n",
    "        \n",
    "        # 如果未指定分支则进行分类\n",
    "        if branch_name is None:\n",
    "            self._log(\"正在分类输入\")\n",
    "            branch_name, classification_metadata = self.classify_input(input_text)\n",
    "            run_details[\"classification\"] = {\n",
    "                \"branch\": branch_name,\n",
    "                \"metrics\": classification_metadata\n",
    "            }\n",
    "        \n",
    "        self._log(f\"执行分支: {branch_name}\")\n",
    "        \n",
    "        # 执行选定分支\n",
    "        response, metadata = self.execute_branch(branch_name, input_text)\n",
    "        \n",
    "        run_details[\"execution\"] = {\n",
    "            \"branch\": branch_name,\n",
    "            \"response\": response,\n",
    "            \"metrics\": metadata\n",
    "        }\n",
    "        \n",
    "        return response, run_details\n",
    "    \n",
    "    def display_branching_results(self, run_details: Dict[str, Any]) -> None:\n",
    "        \"\"\"\n",
    "        在笔记本中展示条件分支结果。\n",
    "        \n",
    "        参数:\n",
    "            run_details: run() 的运行详情\n",
    "        \"\"\"\n",
    "        display(HTML(\"<h2>条件分支结果</h2>\"))\n",
    "        \n",
    "        # 展示输入\n",
    "        display(HTML(\"<h3>输入</h3>\"))\n",
    "        display(Markdown(run_details[\"input\"]))\n",
    "        \n",
    "        # 展示分类结果\n",
    "        if \"classification\" in run_details:\n",
    "            display(HTML(\"<h3>分类结果</h3>\"))\n",
    "            branch = run_details[\"classification\"][\"branch\"]\n",
    "            display(Markdown(f\"选定分支: **{branch}**\"))\n",
    "            \n",
    "            # 展示分类指标\n",
    "            display(HTML(\"<h4>分类指标：</h4>\"))\n",
    "            metrics = run_details[\"classification\"][\"metrics\"]\n",
    "            display(Markdown(f\"```\\n{format_metrics(metrics)}\\n```\"))\n",
    "        \n",
    "        # 展示分支执行结果\n",
    "        display(HTML(\"<h3>分支执行结果</h3>\"))\n",
    "        display(HTML(\"<h4>分支：</h4>\"))\n",
    "        display(Markdown(f\"**{run_details['execution']['branch']}**\"))\n",
    "        \n",
    "        display(HTML(\"<h4>响应：</h4>\"))\n",
    "        display(Markdown(run_details[\"execution\"][\"response\"]))\n",
    "        \n",
    "        display(HTML(\"<h4>执行指标：</h4>\"))\n",
    "        metrics = run_details[\"execution\"][\"metrics\"]\n",
    "        display(Markdown(f\"```\\n{format_metrics(metrics)}\\n```\"))\n",
    "\n",
    "\n",
    "class SelfCritique(ControlLoop):\n",
    "    \"\"\"\n",
    "    一个自我批评控制循环，先生成回答，然后对其进行批评和改进，\n",
    "    在单次流程中完成，无需多次API调用进行细化。\n",
    "    \"\"\"\n",
    "    \n",
    "    def __init__(\n",
    "        self,\n",
    "        critique_template: str = \"步骤1：针对问题生成回答。\\n步骤2：对你的回答进行批评，指出任何错误、遗漏或可改进之处。\\n步骤3：根据你的批评，给出最终改进后的回答。\\n\\n问题：{input}\",\n",
    "        parse_sections: bool = True,\n",
    "        **kwargs\n",
    "    ):\n",
    "        \"\"\"\n",
    "        初始化自我批评控制循环。\n",
    "        \n",
    "        参数:\n",
    "            critique_template: 自我批评提示模板\n",
    "            parse_sections: 是否将响应解析为各个部分\n",
    "            **kwargs: 传递给 ControlLoop 的其他参数\n",
    "        \"\"\"\n",
    "        super().__init__(**kwargs)\n",
    "        self.critique_template = critique_template\n",
    "        self.parse_sections = parse_sections\n",
    "    \n",
    "    def run(self, input_text: str) -> Tuple[str, Dict[str, Any]]:\n",
    "        \"\"\"\n",
    "        执行自我批评流程。\n",
    "        \n",
    "        参数:\n",
    "            input_text: 需要回答的问题\n",
    "            \n",
    "        返回:\n",
    "            tuple: (最终回答, 运行详情)\n",
    "        \"\"\"\n",
    "        # 格式化提示\n",
    "        prompt = self.critique_template.format(input=input_text)\n",
    "        \n",
    "        # 生成自我批评响应\n",
    "        response, metadata = self._call_llm(prompt)\n",
    "        \n",
    "        # 如需解析部分则尝试解析\n",
    "        sections = {}\n",
    "        if self.parse_sections:\n",
    "            # 尝试解析初始回答、批评和最终回答\n",
    "            initial_match = re.search(r\"步骤1:(.*?)步骤2:\", response, re.DOTALL)\n",
    "            critique_match = re.search(r\"步骤2:(.*?)步骤3:\", response, re.DOTALL)\n",
    "            final_match = re.search(r\"步骤3:(.*?)$\", response, re.DOTALL)\n",
    "            \n",
    "            if initial_match:\n",
    "                sections[\"initial_response\"] = initial_match.group(1).strip()\n",
    "            if critique_match:\n",
    "                sections[\"critique\"] = critique_match.group(1).strip()\n",
    "            if final_match:\n",
    "                sections[\"final_response\"] = final_match.group(1).strip()\n",
    "        \n",
    "        # 如果解析失败，则使用完整响应\n",
    "        if not sections and self.parse_sections:\n",
    "            self._log(\"未能从响应中解析出各部分\")\n",
    "            sections[\"full_response\"] = response\n",
    "        \n",
    "        # 构建运行详情\n",
    "        run_details = {\n",
    "            \"input\": input_text,\n",
    "            \"full_response\": response,\n",
    "            \"sections\": sections,\n",
    "            \"metrics\": metadata\n",
    "        }\n",
    "        \n",
    "        # 返回最终回答（如解析失败则返回完整响应）\n",
    "        final_response = sections.get(\"final_response\", response)\n",
    "        return final_response, run_details\n",
    "    \n",
    "    def display_results(self, run_details: Dict[str, Any]) -> None:\n",
    "        \"\"\"\n",
    "        在笔记本中展示自我批评结果。\n",
    "        \n",
    "        参数:\n",
    "            run_details: run() 的运行详情\n",
    "        \"\"\"\n",
    "        display(HTML(\"<h2>自我批评结果</h2>\"))\n",
    "        \n",
    "        # 展示输入\n",
    "        display(HTML(\"<h3>输入</h3>\"))\n",
    "        display(Markdown(run_details[\"input\"]))\n",
    "        \n",
    "        # 如有解析部分则展示\n",
    "        if \"sections\" in run_details and run_details[\"sections\"]:\n",
    "            sections = run_details[\"sections\"]\n",
    "            \n",
    "            if \"initial_response\" in sections:\n",
    "                display(HTML(\"<h3>初始回答</h3>\"))\n",
    "                display(Markdown(sections[\"initial_response\"]))\n",
    "            \n",
    "            if \"critique\" in sections:\n",
    "                display(HTML(\"<h3>自我批评</h3>\"))\n",
    "                display(Markdown(sections[\"critique\"]))\n",
    "            \n",
    "            if \"final_response\" in sections:\n",
    "                display(HTML(\"<h3>最终回答</h3>\"))\n",
    "                display(Markdown(sections[\"final_response\"]))\n",
    "        \n",
    "        # 如果没有解析部分则展示完整响应\n",
    "        elif \"full_response\" in run_details:\n",
    "            display(HTML(\"<h3>完整响应</h3>\"))\n",
    "            display(Markdown(run_details[\"full_response\"]))\n",
    "        \n",
    "        # 展示指标\n",
    "        display(HTML(\"<h3>指标</h3>\"))\n",
    "        metrics = run_details[\"metrics\"]\n",
    "        display(Markdown(f\"```\\n{format_metrics(metrics)}\\n```\"))\n",
    "\n",
    "\n",
    "class ExternalValidation(ControlLoop):\n",
    "    \"\"\"\n",
    "    一个使用外部工具或知识对LLM响应进行验证和纠正的控制循环，形成闭环反馈。\n",
    "    \"\"\"\n",
    "    \n",
    "    def __init__(\n",
    "        self,\n",
    "        validator_fn: Callable[[str], Tuple[bool, str]],\n",
    "        correction_template: str = \"你的上一个回答存在一些问题：\\n\\n{validation_feedback}\\n\\n请纠正你的回答以解决这些问题：\\n\\n{previous_response}\",\n",
    "        max_attempts: int = 3,\n",
    "        **kwargs\n",
    "    ):\n",
    "        \"\"\"\n",
    "        初始化外部验证循环。\n",
    "        \n",
    "        参数:\n",
    "            validator_fn: 一个函数，输入为响应，返回 (是否有效, 反馈信息)\n",
    "            correction_template: 纠正提示的模板\n",
    "            max_attempts: 最大验证尝试次数\n",
    "            **kwargs: 传递给 ControlLoop 的其他参数\n",
    "        \"\"\"\n",
    "        super().__init__(**kwargs)\n",
    "        self.validator_fn = validator_fn\n",
    "        self.correction_template = correction_template\n",
    "        self.max_attempts = max_attempts\n",
    "    \n",
    "    def run(self, input_text: str) -> Tuple[str, Dict[str, Any]]:\n",
    "        \"\"\"\n",
    "        执行外部验证流程。\n",
    "        \n",
    "        参数:\n",
    "            input_text: 需要回答的输入\n",
    "            \n",
    "        返回:\n",
    "            tuple: (最终回答, 运行详情)\n",
    "        \"\"\"\n",
    "        # 生成初始回答\n",
    "        response, metadata = self._call_llm(input_text)\n",
    "        \n",
    "        attempts = []\n",
    "        current_response = response\n",
    "        is_valid = False\n",
    "        validation_feedback = \"\"\n",
    "        \n",
    "        # 添加初始尝试\n",
    "        attempts.append({\n",
    "            \"attempt\": 1,\n",
    "            \"response\": current_response,\n",
    "            \"metrics\": metadata,\n",
    "            \"validation\": {\n",
    "                \"pending\": True\n",
    "            }\n",
    "        })\n",
    "        \n",
    "        # 验证循环\n",
    "        for attempt in range(1, self.max_attempts + 1):\n",
    "            # 验证当前回答\n",
    "            self._log(f\"正在验证第 {attempt} 次尝试\")\n",
    "            is_valid, validation_feedback = self.validator_fn(current_response)\n",
    "            \n",
    "            # 更新当前尝试的验证结果\n",
    "            attempts[-1][\"validation\"] = {\n",
    "                \"is_valid\": is_valid,\n",
    "                \"feedback\": validation_feedback,\n",
    "                \"pending\": False\n",
    "            }\n",
    "            \n",
    "            # 如果有效则停止\n",
    "            if is_valid:\n",
    "                self._log(f\"第 {attempt} 次尝试获得有效回答\")\n",
    "                break\n",
    "            \n",
    "            # 达到最大尝试次数则停止\n",
    "            if attempt >= self.max_attempts:\n",
    "                self._log(f\"已达到最大尝试次数 ({self.max_attempts})，仍未获得有效回答\")\n",
    "                break\n",
    "            \n",
    "            # 构建纠正提示\n",
    "            self._log(f\"尝试纠正（第 {attempt+1} 次尝试）\")\n",
    "            correction_prompt = self.correction_template.format(\n",
    "                validation_feedback=validation_feedback,\n",
    "                previous_response=current_response\n",
    "            )\n",
    "            \n",
    "            # 生成纠正后的回答\n",
    "            corrected_response, correction_metadata = self._call_llm(correction_prompt)\n",
    "            current_response = corrected_response\n",
    "            \n",
    "            # 添加新尝试\n",
    "            attempts.append({\n",
    "                \"attempt\": attempt + 1,\n",
    "                \"response\": current_response,\n",
    "                \"metrics\": correction_metadata,\n",
    "                \"validation\": {\n",
    "                    \"pending\": True\n",
    "                }\n",
    "            })\n",
    "        \n",
    "        # 构建运行详情\n",
    "        run_details = {\n",
    "            \"input\": input_text,\n",
    "            \"attempts\": attempts,\n",
    "            \"final_response\": current_response,\n",
    "            \"is_valid\": is_valid,\n",
    "            \"validation_feedback\": validation_feedback,\n",
    "            \"attempts_count\": len(attempts)\n",
    "        }\n",
    "        \n",
    "        return current_response, run_details\n",
    "    \n",
    "    def display_results(self, run_details: Dict[str, Any]) -> None:\n",
    "        \"\"\"\n",
    "        在笔记本中展示外部验证结果。\n",
    "        \n",
    "        参数:\n",
    "            run_details: run() 的运行详情\n",
    "        \"\"\"\n",
    "        display(HTML(\"<h2>外部验证结果</h2>\"))\n",
    "        \n",
    "        # 展示输入\n",
    "        display(HTML(\"<h3>输入</h3>\"))\n",
    "        display(Markdown(run_details[\"input\"]))\n",
    "        \n",
    "        # 展示每次尝试\n",
    "        for attempt_data in run_details[\"attempts\"]:\n",
    "            attempt_num = attempt_data[\"attempt\"]\n",
    "            display(HTML(f\"<h3>第 {attempt_num} 次尝试</h3>\"))\n",
    "            \n",
    "            # 展示回答\n",
    "            display(HTML(\"<h4>回答：</h4>\"))\n",
    "            display(Markdown(attempt_data[\"response\"]))\n",
    "            \n",
    "            # 展示验证结果\n",
    "            if not attempt_data[\"validation\"][\"pending\"]:\n",
    "                is_valid = attempt_data[\"validation\"][\"is_valid\"]\n",
    "                display(HTML(\"<h4>验证结果：</h4>\"))\n",
    "                \n",
    "                if is_valid:\n",
    "                    display(HTML(\"<p style='color: green; font-weight: bold;'>✓ 有效</p>\"))\n",
    "                else:\n",
    "                    display(HTML(\"<p style='color: red; font-weight: bold;'>✗ 无效</p>\"))\n",
    "                    display(HTML(\"<h4>反馈：</h4>\"))\n",
    "                    display(Markdown(attempt_data[\"validation\"][\"feedback\"]))\n",
    "            \n",
    "            # 展示指标\n",
    "            display(HTML(\"<h4>指标：</h4>\"))\n",
    "            metrics = attempt_data[\"metrics\"]\n",
    "            display(Markdown(f\"```\\n{format_metrics(metrics)}\\n```\"))\n",
    "        \n",
    "        # 展示汇总\n",
    "        display(HTML(\"<h3>汇总</h3>\"))\n",
    "        is_valid = run_details[\"is_valid\"]\n",
    "        status = \"✓ 有效\" if is_valid else \"✗ 无效\"\n",
    "        display(Markdown(f\"\"\"\n",
    "        - 最终状态: **{status}**\n",
    "        - 总尝试次数: {run_details['attempts_count']}\n",
    "        - 总令牌数: {self.metrics['total_tokens']}\n",
    "        - 总延迟: {self.metrics['total_latency']:.2f}秒\n",
    "        \"\"\"))\n"
   ]
  },
  {
   "cell_type": "code",
   "execution_count": 4,
   "id": "5e6df6be",
   "metadata": {},
   "outputs": [
    {
     "name": "stdout",
     "output_type": "stream",
     "text": [
      "多步骤LLM交互的控制循环\n",
      "单独运行示例或导入类供您自己使用。\n"
     ]
    }
   ],
   "source": [
    "# 使用示例\n",
    "# =============\n",
    "\n",
    "def example_sequential_chain():\n",
    "    \"\"\"数据分析的顺序链示例。\"\"\"\n",
    "    steps = [\n",
    "        {\n",
    "            \"name\": \"extract_entities\",\n",
    "            \"prompt_template\": \"从这段文本中提取主要实体（人物、地点、组织）。对每个实体提供简要描述。\\n\\n文本: {input}\",\n",
    "            \"system_message\": \"你是从文本中提取和分类命名实体的专家。\"\n",
    "        },\n",
    "        {\n",
    "            \"name\": \"analyze_relationships\",\n",
    "            \"prompt_template\": \"基于这些实体，分析它们之间的关系：\\n\\n{input}\",\n",
    "            \"system_message\": \"你是分析实体间关系的专家。\"\n",
    "        },\n",
    "        {\n",
    "            \"name\": \"generate_report\",\n",
    "            \"prompt_template\": \"基于这个关系分析创建一份简明的总结报告：\\n\\n{input}\",\n",
    "            \"system_message\": \"你是创建清晰、简洁报告的专家。\"\n",
    "        }\n",
    "    ]\n",
    "    \n",
    "    chain = SequentialChain(steps=steps, verbose=True)\n",
    "    \n",
    "    sample_text = \"\"\"\n",
    "    1995年，杰夫·贝佐斯在西雅图创立了亚马逊。最初是一家在线书店，\n",
    "    在贝佐斯的领导下亚马逊迅速扩张。到2021年，亚马逊已成为\n",
    "    世界上最有价值的公司之一，贝佐斯曾短暂超越\n",
    "    埃隆·马斯克成为世界首富。特斯拉和SpaceX的CEO马斯克，\n",
    "    在特斯拉股价飙升后重新夺回了榜首位置。与此同时，微软，\n",
    "    由比尔·盖茨于1975年在阿尔伯克基创立，在CEO萨蒂亚·纳德拉的领导下\n",
    "    继续成为主要的科技竞争对手。\n",
    "    \"\"\"\n",
    "    \n",
    "    final_output, all_outputs = chain.run(sample_text)\n",
    "    \n",
    "    # 显示结果\n",
    "    chain.display_chain_results(all_outputs)\n",
    "    \n",
    "    # 可视化指标\n",
    "    chain.visualize_metrics()\n",
    "    \n",
    "    return final_output, all_outputs\n",
    "\n",
    "\n",
    "def example_iterative_refiner():\n",
    "    \"\"\"用于论文写作的迭代优化示例。\"\"\"\n",
    "    # 基于质量阈值定义停止条件\n",
    "    def quality_threshold(response, metadata):\n",
    "        # 如果响应超过500个标记且延迟可接受则停止\n",
    "        response_tokens = metadata.get(\"response_tokens\", 0)\n",
    "        latency = metadata.get(\"latency\", 0)\n",
    "        return response_tokens > 500 and latency < 5.0\n",
    "    \n",
    "    refiner = IterativeRefiner(\n",
    "        max_iterations=3,\n",
    "        stopping_condition=quality_threshold,\n",
    "        verbose=True\n",
    "    )\n",
    "    \n",
    "    prompt = \"写一篇关于人工智能未来的短文。\"\n",
    "    \n",
    "    final_response, refinement_history = refiner.run(prompt)\n",
    "    \n",
    "    # 显示结果\n",
    "    refiner.display_refinement_history(refinement_history)\n",
    "    \n",
    "    # 可视化指标\n",
    "    refiner.visualize_metrics()\n",
    "    \n",
    "    return final_response, refinement_history\n",
    "\n",
    "\n",
    "def example_conditional_brancher():\n",
    "    \"\"\"用于查询路由的条件分支示例。\"\"\"\n",
    "    branches = {\n",
    "        \"technical\": {\n",
    "            \"prompt_template\": \"为专业受众提供关于这个主题的技术性、详细的解释：\\n\\n{input}\",\n",
    "            \"system_message\": \"你是提供详细、精确解释的技术专家。\"\n",
    "        },\n",
    "        \"simplified\": {\n",
    "            \"prompt_template\": \"用10岁孩子能理解的简单术语解释这个主题：\\n\\n{input}\",\n",
    "            \"system_message\": \"你是用简单、易懂的语言解释复杂主题的教育者。\"\n",
    "        },\n",
    "        \"practical\": {\n",
    "            \"prompt_template\": \"提供关于这个主题的实用、可操作的建议：\\n\\n{input}\",\n",
    "            \"system_message\": \"你是提供具体、可操作指导的实践顾问。\"\n",
    "        }\n",
    "    }\n",
    "    \n",
    "    brancher = ConditionalBrancher(branches=branches, verbose=True)\n",
    "    \n",
    "    queries = [\n",
    "        \"量子计算是如何工作的？\",\n",
    "        \"什么是气候变化？\",\n",
    "        \"我该如何提高公众演讲技巧？\"\n",
    "    ]\n",
    "    \n",
    "    results = []\n",
    "    for query in queries:\n",
    "        response, run_details = brancher.run(query)\n",
    "        results.append((query, response, run_details))\n",
    "        \n",
    "        # 显示结果\n",
    "        brancher.display_branching_results(run_details)\n",
    "    \n",
    "    # 可视化指标\n",
    "    brancher.visualize_metrics()\n",
    "    \n",
    "    return results\n",
    "\n",
    "\n",
    "def example_self_critique():\n",
    "    \"\"\"用于事实核查的自我批判示例。\"\"\"\n",
    "    critique = SelfCritique(\n",
    "        critique_template=\"\"\"\n",
    "        用事实信息回答以下问题：\n",
    "        \n",
    "        问题: {input}\n",
    "        \n",
    "        第1步：写出包含所有你认为相关信息的初始回答。\n",
    "        \n",
    "        第2步：批判性地审查你的回答。检查：\n",
    "        - 事实错误或不准确之处\n",
    "        - 缺失的重要信息\n",
    "        - 潜在的偏见或单方面的观点\n",
    "        - 你不确定应该降低信心度的地方\n",
    "        \n",
    "        第3步：写出一个改进的最终回答，解决批判中发现的问题。\n",
    "        \"\"\",\n",
    "        verbose=True\n",
    "    )\n",
    "    \n",
    "    query = \"第一次世界大战的主要原因是什么，它们是如何导致冲突的？\"\n",
    "    \n",
    "    final_response, run_details = critique.run(query)\n",
    "    \n",
    "    # 显示结果\n",
    "    critique.display_results(run_details)\n",
    "    \n",
    "    # 可视化指标\n",
    "    critique.visualize_metrics()\n",
    "    \n",
    "    return final_response, run_details\n",
    "\n",
    "\n",
    "def example_external_validation():\n",
    "    \"\"\"用于代码生成的外部验证示例。\"\"\"\n",
    "    # 检查Python语法错误的简单验证函数\n",
    "    def python_validator(code_response):\n",
    "        # 提取代码块\n",
    "        import re\n",
    "        code_blocks = re.findall(r\"```python(.*?)```\", code_response, re.DOTALL)\n",
    "        \n",
    "        if not code_blocks:\n",
    "            return False, \"响应中未找到Python代码块。\"\n",
    "        \n",
    "        # 检查每个代码块的语法错误\n",
    "        for i, block in enumerate(code_blocks):\n",
    "            try:\n",
    "                compile(block, \"<string>\", \"exec\")\n",
    "            except SyntaxError as e:\n",
    "                return False, f\"代码块 {i+1} 中的语法错误: {str(e)}\"\n",
    "        \n",
    "        return True, \"代码语法有效。\"\n",
    "    \n",
    "    validator = ExternalValidation(\n",
    "        validator_fn=python_validator,\n",
    "        max_attempts=3,\n",
    "        verbose=True\n",
    "    )\n",
    "    \n",
    "    prompt = \"编写一个Python函数来检查字符串是否为回文。\"\n",
    "    \n",
    "    final_response, run_details = validator.run(prompt)\n",
    "    \n",
    "    # 显示结果\n",
    "    validator.display_results(run_details)\n",
    "    \n",
    "    # 可视化指标\n",
    "    validator.visualize_metrics()\n",
    "    \n",
    "    return final_response, run_details\n",
    "\n",
    "\n",
    "# 主执行（作为脚本运行时）\n",
    "if __name__ == \"__main__\":\n",
    "    print(\"多步骤LLM交互的控制循环\")\n",
    "    print(\"单独运行示例或导入类供您自己使用。\")\n"
   ]
  },
  {
   "cell_type": "code",
   "execution_count": 17,
   "id": "288334f1",
   "metadata": {},
   "outputs": [
    {
     "name": "stderr",
     "output_type": "stream",
     "text": [
      "2025-07-11 20:40:04,206 - __main__ - INFO - 运行第 1/3 步: extract_entities\n",
      "2025-07-11 20:40:07,959 - httpx - INFO - HTTP Request: POST https://models.github.ai/inference/chat/completions \"HTTP/1.1 200 OK\"\n",
      "2025-07-11 20:40:07,962 - __main__ - INFO - 运行第 2/3 步: analyze_relationships\n",
      "2025-07-11 20:40:12,396 - httpx - INFO - HTTP Request: POST https://models.github.ai/inference/chat/completions \"HTTP/1.1 200 OK\"\n",
      "2025-07-11 20:40:12,400 - __main__ - INFO - 运行第 3/3 步: generate_report\n",
      "2025-07-11 20:40:15,430 - httpx - INFO - HTTP Request: POST https://models.github.ai/inference/chat/completions \"HTTP/1.1 200 OK\"\n"
     ]
    },
    {
     "data": {
      "text/html": [
       "<h2>顺序链结果展示</h2>"
      ],
      "text/plain": [
       "<IPython.core.display.HTML object>"
      ]
     },
     "metadata": {},
     "output_type": "display_data"
    },
    {
     "data": {
      "text/html": [
       "<h3>初始输入</h3>"
      ],
      "text/plain": [
       "<IPython.core.display.HTML object>"
      ]
     },
     "metadata": {},
     "output_type": "display_data"
    },
    {
     "data": {
      "text/markdown": [
       "\n",
       "    1995年，杰夫·贝佐斯在西雅图创立了亚马逊。最初是一家在线书店，\n",
       "    在贝佐斯的领导下亚马逊迅速扩张。到2021年，亚马逊已成为\n",
       "    世界上最有价值的公司之一，贝佐斯曾短暂超越\n",
       "    埃隆·马斯克成为世界首富。特斯拉和SpaceX的CEO马斯克，\n",
       "    在特斯拉股价飙升后重新夺回了榜首位置。与此同时，微软，\n",
       "    由比尔·盖茨于1975年在阿尔伯克基创立，在CEO萨蒂亚·纳德拉的领导下\n",
       "    继续成为主要的科技竞争对手。\n",
       "    "
      ],
      "text/plain": [
       "<IPython.core.display.Markdown object>"
      ]
     },
     "metadata": {},
     "output_type": "display_data"
    },
    {
     "data": {
      "text/html": [
       "<h3>第 1 步: extract_entities</h3>"
      ],
      "text/plain": [
       "<IPython.core.display.HTML object>"
      ]
     },
     "metadata": {},
     "output_type": "display_data"
    },
    {
     "data": {
      "text/html": [
       "<h4>提示：</h4>"
      ],
      "text/plain": [
       "<IPython.core.display.HTML object>"
      ]
     },
     "metadata": {},
     "output_type": "display_data"
    },
    {
     "data": {
      "text/markdown": [
       "```\n",
       "从这段文本中提取主要实体（人物、地点、组织）。对每个实体提供简要描述。\n",
       "\n",
       "文本: \n",
       "    1995年，杰夫·贝佐斯在西雅图创立了亚马逊。最初是一家在线书店，\n",
       "    在贝佐斯的领导下亚马逊迅速扩张。到2021年，亚马逊已成为\n",
       "    世界上最有价值的公司之一，贝佐斯曾短暂超越\n",
       "    埃隆·马斯克成为世界首富。特斯拉和SpaceX的CEO马斯克，\n",
       "    在特斯拉股价飙升后重新夺回了榜首位置。与此同时，微软，\n",
       "    由比尔·盖茨于1975年在阿尔伯克基创立，在CEO萨蒂亚·纳德拉的领导下\n",
       "    继续成为主要的科技竞争对手。\n",
       "    \n",
       "```"
      ],
      "text/plain": [
       "<IPython.core.display.Markdown object>"
      ]
     },
     "metadata": {},
     "output_type": "display_data"
    },
    {
     "data": {
      "text/html": [
       "<h4>响应：</h4>"
      ],
      "text/plain": [
       "<IPython.core.display.HTML object>"
      ]
     },
     "metadata": {},
     "output_type": "display_data"
    },
    {
     "data": {
      "text/markdown": [
       "主要实体及简要描述：\n",
       "\n",
       "1. 杰夫·贝佐斯（人物）\n",
       "   - 亚马逊的创始人，1995年在西雅图创立了亚马逊，领导公司实现快速扩张，并曾短暂成为世界首富。\n",
       "\n",
       "2. 西雅图（地点）\n",
       "   - 亚马逊的创立地点，美国华盛顿州的一座主要城市。\n",
       "\n",
       "3. 亚马逊（组织）\n",
       "   - 由杰夫·贝佐斯创立的全球领先的电子商务和云计算公司，发展成为世界上最有价值的公司之一。\n",
       "\n",
       "4. 埃隆·马斯克（人物）\n",
       "   - 特斯拉和SpaceX的CEO，曾是世界首富，在特斯拉股价飙升后重新夺回榜首。\n",
       "\n",
       "5. 特斯拉（组织）\n",
       "   - 由埃隆·马斯克领导的电动汽车制造公司，以创新技术和高市值著称。\n",
       "\n",
       "6. SpaceX（组织）\n",
       "   - 埃隆·马斯克创立的航天制造和太空运输公司，致力于降低太空运输成本。\n",
       "\n",
       "7. 微软（组织）\n",
       "   - 由比尔·盖茨创立的全球领先的软件和科技公司，持续在科技领域保持竞争力。\n",
       "\n",
       "8. 比尔·盖茨（人物）\n",
       "   - 微软的联合创始人，1975年在阿尔伯克基创立公司，是计算机软件行业的重要人物。\n",
       "\n",
       "9. 阿尔伯克基（地点）\n",
       "   - 微软创立地，美国新墨西哥州最大城市。\n",
       "\n",
       "10. 萨蒂亚·纳德拉（人物）\n",
       "    - 微软现任CEO，领导公司保持科技竞争力。"
      ],
      "text/plain": [
       "<IPython.core.display.Markdown object>"
      ]
     },
     "metadata": {},
     "output_type": "display_data"
    },
    {
     "data": {
      "text/html": [
       "<h4>指标：</h4>"
      ],
      "text/plain": [
       "<IPython.core.display.HTML object>"
      ]
     },
     "metadata": {},
     "output_type": "display_data"
    },
    {
     "data": {
      "text/markdown": [
       "```\n",
       "提示令牌数: 289 | 响应令牌数: 567 | 总令牌数: 874 | 延迟: 3.75秒 | 令牌效率: 1.85\n",
       "```"
      ],
      "text/plain": [
       "<IPython.core.display.Markdown object>"
      ]
     },
     "metadata": {},
     "output_type": "display_data"
    },
    {
     "data": {
      "text/html": [
       "<h3>第 2 步: analyze_relationships</h3>"
      ],
      "text/plain": [
       "<IPython.core.display.HTML object>"
      ]
     },
     "metadata": {},
     "output_type": "display_data"
    },
    {
     "data": {
      "text/html": [
       "<h4>提示：</h4>"
      ],
      "text/plain": [
       "<IPython.core.display.HTML object>"
      ]
     },
     "metadata": {},
     "output_type": "display_data"
    },
    {
     "data": {
      "text/markdown": [
       "```\n",
       "基于这些实体，分析它们之间的关系：\n",
       "\n",
       "主要实体及简要描述：\n",
       "\n",
       "1. 杰夫·贝佐斯（人物）\n",
       "   - 亚马逊的创始人，1995年在西雅图创立了亚马逊，领导公司实现快速扩张，并曾短暂成为世界首富。\n",
       "\n",
       "2. 西雅图（地点）\n",
       "   - 亚马逊的创立地点，美国华盛顿州的一座主要城市。\n",
       "\n",
       "3. 亚马逊（组织）\n",
       "   - 由杰夫·贝佐斯创立的全球领先的电子商务和云计算公司，发展成为世界上最有价值的公司之一。\n",
       "\n",
       "4. 埃隆·马斯克（人物）\n",
       "   - 特斯拉和SpaceX的CEO，曾是世界首富，在特斯拉股价飙升后重新夺回榜首。\n",
       "\n",
       "5. 特斯拉（组织）\n",
       "   - 由埃隆·马斯克领导的电动汽车制造公司，以创新技术和高市值著称。\n",
       "\n",
       "6. SpaceX（组织）\n",
       "   - 埃隆·马斯克创立的航天制造和太空运输公司，致力于降低太空运输成本。\n",
       "\n",
       "7. 微软（组织）\n",
       "   - 由比尔·盖茨创立的全球领先的软件和科技公司，持续在科技领域保持竞争力。\n",
       "\n",
       "8. 比尔·盖茨（人物）\n",
       "   - 微软的联合创始人，1975年在阿尔伯克基创立公司，是计算机软件行业的重要人物。\n",
       "\n",
       "9. 阿尔伯克基（地点）\n",
       "   - 微软创立地，美国新墨西哥州最大城市。\n",
       "\n",
       "10. 萨蒂亚·纳德拉（人物）\n",
       "    - 微软现任CEO，领导公司保持科技竞争力。\n",
       "```"
      ],
      "text/plain": [
       "<IPython.core.display.Markdown object>"
      ]
     },
     "metadata": {},
     "output_type": "display_data"
    },
    {
     "data": {
      "text/html": [
       "<h4>响应：</h4>"
      ],
      "text/plain": [
       "<IPython.core.display.HTML object>"
      ]
     },
     "metadata": {},
     "output_type": "display_data"
    },
    {
     "data": {
      "text/markdown": [
       "基于上述实体，可以分析出以下主要关系：\n",
       "\n",
       "1. 创始与领导关系\n",
       "- 杰夫·贝佐斯是亚马逊的创始人，1995年在西雅图创立亚马逊。\n",
       "- 埃隆·马斯克是特斯拉的CEO，同时创立并领导SpaceX。\n",
       "- 比尔·盖茨是微软的联合创始人，1975年在阿尔伯克基创立微软。\n",
       "- 萨蒂亚·纳德拉是微软现任CEO，负责领导微软的运营和发展。\n",
       "\n",
       "2. 地点与创始关系\n",
       "- 亚马逊创立于美国华盛顿州的西雅图。\n",
       "- 微软创立于美国新墨西哥州的阿尔伯克基。\n",
       "\n",
       "3. 公司与行业关系\n",
       "- 亚马逊是一家电子商务和云计算领域的全球领先企业。\n",
       "- 特斯拉是电动汽车制造领域的创新者和领导者。\n",
       "- SpaceX是航天制造和太空运输公司，致力于降低太空运输成本。\n",
       "- 微软是软件和科技领域的全球领先公司。\n",
       "\n",
       "4. 竞争与财富关系\n",
       "- 杰夫·贝佐斯和埃隆·马斯克均曾短暂成为世界首富，体现两人在科技和商业领域的巨大影响力。\n",
       "- 两人领导的公司（亚马逊、特斯拉、SpaceX）在各自领域具有显著市场价值和创新能力。\n",
       "- 微软在科技领域持续保持竞争力，萨蒂亚·纳德拉领导下公司不断发展。\n",
       "\n",
       "总结：\n",
       "- 杰夫·贝佐斯与亚马逊、西雅图构成创始与地点的直接关联。\n",
       "- 埃隆·马斯克与特斯拉、SpaceX构成领导与企业关联。\n",
       "- 比尔·盖茨、萨蒂亚·纳德拉与微软、阿尔伯克基构成创始、领导与地点的关联。\n",
       "- 这些人物与其创立或领导的公司共同推动了科技创新和产业发展，同时在财富和市场竞争中相互影响。"
      ],
      "text/plain": [
       "<IPython.core.display.Markdown object>"
      ]
     },
     "metadata": {},
     "output_type": "display_data"
    },
    {
     "data": {
      "text/html": [
       "<h4>指标：</h4>"
      ],
      "text/plain": [
       "<IPython.core.display.HTML object>"
      ]
     },
     "metadata": {},
     "output_type": "display_data"
    },
    {
     "data": {
      "text/markdown": [
       "```\n",
       "提示令牌数: 585 | 响应令牌数: 724 | 总令牌数: 1322 | 延迟: 4.44秒 | 令牌效率: 1.21\n",
       "```"
      ],
      "text/plain": [
       "<IPython.core.display.Markdown object>"
      ]
     },
     "metadata": {},
     "output_type": "display_data"
    },
    {
     "data": {
      "text/html": [
       "<h3>第 3 步: generate_report</h3>"
      ],
      "text/plain": [
       "<IPython.core.display.HTML object>"
      ]
     },
     "metadata": {},
     "output_type": "display_data"
    },
    {
     "data": {
      "text/html": [
       "<h4>提示：</h4>"
      ],
      "text/plain": [
       "<IPython.core.display.HTML object>"
      ]
     },
     "metadata": {},
     "output_type": "display_data"
    },
    {
     "data": {
      "text/markdown": [
       "```\n",
       "基于这个关系分析创建一份简明的总结报告：\n",
       "\n",
       "基于上述实体，可以分析出以下主要关系：\n",
       "\n",
       "1. 创始与领导关系\n",
       "- 杰夫·贝佐斯是亚马逊的创始人，1995年在西雅图创立亚马逊。\n",
       "- 埃隆·马斯克是特斯拉的CEO，同时创立并领导SpaceX。\n",
       "- 比尔·盖茨是微软的联合创始人，1975年在阿尔伯克基创立微软。\n",
       "- 萨蒂亚·纳德拉是微软现任CEO，负责领导微软的运营和发展。\n",
       "\n",
       "2. 地点与创始关系\n",
       "- 亚马逊创立于美国华盛顿州的西雅图。\n",
       "- 微软创立于美国新墨西哥州的阿尔伯克基。\n",
       "\n",
       "3. 公司与行业关系\n",
       "- 亚马逊是一家电子商务和云计算领域的全球领先企业。\n",
       "- 特斯拉是电动汽车制造领域的创新者和领导者。\n",
       "- SpaceX是航天制造和太空运输公司，致力于降低太空运输成本。\n",
       "- 微软是软件和科技领域的全球领先公司。\n",
       "\n",
       "4. 竞争与财富关系\n",
       "- 杰夫·贝佐斯和埃隆·马斯克均曾短暂成为世界首富，体现两人在科技和商业领域的巨大影响力。\n",
       "- 两人领导的公司（亚马逊、特斯拉、SpaceX）在各自领域具有显著市场价值和创新能力。\n",
       "- 微软在科技领域持续保持竞争力，萨蒂亚·纳德拉领导下公司不断发展。\n",
       "\n",
       "总结：\n",
       "- 杰夫·贝佐斯与亚马逊、西雅图构成创始与地点的直接关联。\n",
       "- 埃隆·马斯克与特斯拉、SpaceX构成领导与企业关联。\n",
       "- 比尔·盖茨、萨蒂亚·纳德拉与微软、阿尔伯克基构成创始、领导与地点的关联。\n",
       "- 这些人物与其创立或领导的公司共同推动了科技创新和产业发展，同时在财富和市场竞争中相互影响。\n",
       "```"
      ],
      "text/plain": [
       "<IPython.core.display.Markdown object>"
      ]
     },
     "metadata": {},
     "output_type": "display_data"
    },
    {
     "data": {
      "text/html": [
       "<h4>响应：</h4>"
      ],
      "text/plain": [
       "<IPython.core.display.HTML object>"
      ]
     },
     "metadata": {},
     "output_type": "display_data"
    },
    {
     "data": {
      "text/markdown": [
       "简明总结报告\n",
       "\n",
       "本报告基于主要人物、企业及地点的关系分析，概述其创始、领导及行业地位：\n",
       "\n",
       "1. 创始与领导\n",
       "- 杰夫·贝佐斯于1995年在西雅图创立亚马逊，推动电子商务和云计算发展。\n",
       "- 埃隆·马斯克担任特斯拉CEO，并创立领导航天公司SpaceX，推动电动汽车和航天创新。\n",
       "- 比尔·盖茨1975年在阿尔伯克基联合创立微软，开启软件科技新时代。\n",
       "- 萨蒂亚·纳德拉现任微软CEO，持续推动公司技术创新与业务扩展。\n",
       "\n",
       "2. 地点关联\n",
       "- 亚马逊起源于美国华盛顿州西雅图。\n",
       "- 微软创立于美国新墨西哥州阿尔伯克基。\n",
       "\n",
       "3. 行业与竞争\n",
       "- 亚马逊、特斯拉、SpaceX和微软均为各自领域的全球领导者，涵盖电子商务、云计算、电动汽车、航天及软件科技。\n",
       "- 杰夫·贝佐斯和埃隆·马斯克曾交替成为世界首富，反映其在科技产业的显著影响力。\n",
       "- 萨蒂亚·纳德拉领导下的微软保持行业竞争力和持续创新。\n",
       "\n",
       "结论\n",
       "上述人物与企业在各自创立地点共同推动了科技创新及产业发展，且在财富与市场竞争中相互影响，彰显全球科技领域的领导力和创新活力。"
      ],
      "text/plain": [
       "<IPython.core.display.Markdown object>"
      ]
     },
     "metadata": {},
     "output_type": "display_data"
    },
    {
     "data": {
      "text/html": [
       "<h4>指标：</h4>"
      ],
      "text/plain": [
       "<IPython.core.display.HTML object>"
      ]
     },
     "metadata": {},
     "output_type": "display_data"
    },
    {
     "data": {
      "text/markdown": [
       "```\n",
       "提示令牌数: 743 | 响应令牌数: 539 | 总令牌数: 1298 | 延迟: 3.03秒 | 令牌效率: 0.71\n",
       "```"
      ],
      "text/plain": [
       "<IPython.core.display.Markdown object>"
      ]
     },
     "metadata": {},
     "output_type": "display_data"
    },
    {
     "data": {
      "text/html": [
       "<h3>汇总指标</h3>"
      ],
      "text/plain": [
       "<IPython.core.display.HTML object>"
      ]
     },
     "metadata": {},
     "output_type": "display_data"
    },
    {
     "data": {
      "text/markdown": [
       "\n",
       "        - 总步骤数: 3\n",
       "        - 总令牌数: 3494\n",
       "        - 总延迟: 11.22秒\n",
       "        - 每步平均延迟: 3.74秒\n",
       "        - 总体效率: 1.13\n",
       "        "
      ],
      "text/plain": [
       "<IPython.core.display.Markdown object>"
      ]
     },
     "metadata": {},
     "output_type": "display_data"
    },
    {
     "data": {
      "image/png": "[encoded data removed]",
      "text/plain": [
       "<Figure size 1200x800 with 4 Axes>"
      ]
     },
     "metadata": {},
     "output_type": "display_data"
    },
    {
     "data": {
      "text/plain": [
       "('简明总结报告\\n\\n本报告基于主要人物、企业及地点的关系分析，概述其创始、领导及行业地位：\\n\\n1. 创始与领导\\n- 杰夫·贝佐斯于1995年在西雅图创立亚马逊，推动电子商务和云计算发展。\\n- 埃隆·马斯克担任特斯拉CEO，并创立领导航天公司SpaceX，推动电动汽车和航天创新。\\n- 比尔·盖茨1975年在阿尔伯克基联合创立微软，开启软件科技新时代。\\n- 萨蒂亚·纳德拉现任微软CEO，持续推动公司技术创新与业务扩展。\\n\\n2. 地点关联\\n- 亚马逊起源于美国华盛顿州西雅图。\\n- 微软创立于美国新墨西哥州阿尔伯克基。\\n\\n3. 行业与竞争\\n- 亚马逊、特斯拉、SpaceX和微软均为各自领域的全球领导者，涵盖电子商务、云计算、电动汽车、航天及软件科技。\\n- 杰夫·贝佐斯和埃隆·马斯克曾交替成为世界首富，反映其在科技产业的显著影响力。\\n- 萨蒂亚·纳德拉领导下的微软保持行业竞争力和持续创新。\\n\\n结论\\n上述人物与企业在各自创立地点共同推动了科技创新及产业发展，且在财富与市场竞争中相互影响，彰显全球科技领域的领导力和创新活力。',\n",
       " {'initial_input': '\\n    1995年，杰夫·贝佐斯在西雅图创立了亚马逊。最初是一家在线书店，\\n    在贝佐斯的领导下亚马逊迅速扩张。到2021年，亚马逊已成为\\n    世界上最有价值的公司之一，贝佐斯曾短暂超越\\n    埃隆·马斯克成为世界首富。特斯拉和SpaceX的CEO马斯克，\\n    在特斯拉股价飙升后重新夺回了榜首位置。与此同时，微软，\\n    由比尔·盖茨于1975年在阿尔伯克基创立，在CEO萨蒂亚·纳德拉的领导下\\n    继续成为主要的科技竞争对手。\\n    ',\n",
       "  'extract_entities': {'prompt': '从这段文本中提取主要实体（人物、地点、组织）。对每个实体提供简要描述。\\n\\n文本: \\n    1995年，杰夫·贝佐斯在西雅图创立了亚马逊。最初是一家在线书店，\\n    在贝佐斯的领导下亚马逊迅速扩张。到2021年，亚马逊已成为\\n    世界上最有价值的公司之一，贝佐斯曾短暂超越\\n    埃隆·马斯克成为世界首富。特斯拉和SpaceX的CEO马斯克，\\n    在特斯拉股价飙升后重新夺回了榜首位置。与此同时，微软，\\n    由比尔·盖茨于1975年在阿尔伯克基创立，在CEO萨蒂亚·纳德拉的领导下\\n    继续成为主要的科技竞争对手。\\n    ',\n",
       "   'response': '主要实体及简要描述：\\n\\n1. 杰夫·贝佐斯（人物）\\n   - 亚马逊的创始人，1995年在西雅图创立了亚马逊，领导公司实现快速扩张，并曾短暂成为世界首富。\\n\\n2. 西雅图（地点）\\n   - 亚马逊的创立地点，美国华盛顿州的一座主要城市。\\n\\n3. 亚马逊（组织）\\n   - 由杰夫·贝佐斯创立的全球领先的电子商务和云计算公司，发展成为世界上最有价值的公司之一。\\n\\n4. 埃隆·马斯克（人物）\\n   - 特斯拉和SpaceX的CEO，曾是世界首富，在特斯拉股价飙升后重新夺回榜首。\\n\\n5. 特斯拉（组织）\\n   - 由埃隆·马斯克领导的电动汽车制造公司，以创新技术和高市值著称。\\n\\n6. SpaceX（组织）\\n   - 埃隆·马斯克创立的航天制造和太空运输公司，致力于降低太空运输成本。\\n\\n7. 微软（组织）\\n   - 由比尔·盖茨创立的全球领先的软件和科技公司，持续在科技领域保持竞争力。\\n\\n8. 比尔·盖茨（人物）\\n   - 微软的联合创始人，1975年在阿尔伯克基创立公司，是计算机软件行业的重要人物。\\n\\n9. 阿尔伯克基（地点）\\n   - 微软创立地，美国新墨西哥州最大城市。\\n\\n10. 萨蒂亚·纳德拉（人物）\\n    - 微软现任CEO，领导公司保持科技竞争力。',\n",
       "   'metrics': {'prompt_tokens': 289,\n",
       "    'system_tokens': 18,\n",
       "    'model': 'openai/gpt-4.1-mini',\n",
       "    'temperature': 0.7,\n",
       "    'max_tokens': 500,\n",
       "    'timestamp': 1752237604.2074602,\n",
       "    'latency': 3.7537810802459717,\n",
       "    'response_tokens': 567,\n",
       "    'total_tokens': 874,\n",
       "    'token_efficiency': 1.8469055374592833,\n",
       "    'tokens_per_second': 151.0477004063451}},\n",
       "  'analyze_relationships': {'prompt': '基于这些实体，分析它们之间的关系：\\n\\n主要实体及简要描述：\\n\\n1. 杰夫·贝佐斯（人物）\\n   - 亚马逊的创始人，1995年在西雅图创立了亚马逊，领导公司实现快速扩张，并曾短暂成为世界首富。\\n\\n2. 西雅图（地点）\\n   - 亚马逊的创立地点，美国华盛顿州的一座主要城市。\\n\\n3. 亚马逊（组织）\\n   - 由杰夫·贝佐斯创立的全球领先的电子商务和云计算公司，发展成为世界上最有价值的公司之一。\\n\\n4. 埃隆·马斯克（人物）\\n   - 特斯拉和SpaceX的CEO，曾是世界首富，在特斯拉股价飙升后重新夺回榜首。\\n\\n5. 特斯拉（组织）\\n   - 由埃隆·马斯克领导的电动汽车制造公司，以创新技术和高市值著称。\\n\\n6. SpaceX（组织）\\n   - 埃隆·马斯克创立的航天制造和太空运输公司，致力于降低太空运输成本。\\n\\n7. 微软（组织）\\n   - 由比尔·盖茨创立的全球领先的软件和科技公司，持续在科技领域保持竞争力。\\n\\n8. 比尔·盖茨（人物）\\n   - 微软的联合创始人，1975年在阿尔伯克基创立公司，是计算机软件行业的重要人物。\\n\\n9. 阿尔伯克基（地点）\\n   - 微软创立地，美国新墨西哥州最大城市。\\n\\n10. 萨蒂亚·纳德拉（人物）\\n    - 微软现任CEO，领导公司保持科技竞争力。',\n",
       "   'response': '基于上述实体，可以分析出以下主要关系：\\n\\n1. 创始与领导关系\\n- 杰夫·贝佐斯是亚马逊的创始人，1995年在西雅图创立亚马逊。\\n- 埃隆·马斯克是特斯拉的CEO，同时创立并领导SpaceX。\\n- 比尔·盖茨是微软的联合创始人，1975年在阿尔伯克基创立微软。\\n- 萨蒂亚·纳德拉是微软现任CEO，负责领导微软的运营和发展。\\n\\n2. 地点与创始关系\\n- 亚马逊创立于美国华盛顿州的西雅图。\\n- 微软创立于美国新墨西哥州的阿尔伯克基。\\n\\n3. 公司与行业关系\\n- 亚马逊是一家电子商务和云计算领域的全球领先企业。\\n- 特斯拉是电动汽车制造领域的创新者和领导者。\\n- SpaceX是航天制造和太空运输公司，致力于降低太空运输成本。\\n- 微软是软件和科技领域的全球领先公司。\\n\\n4. 竞争与财富关系\\n- 杰夫·贝佐斯和埃隆·马斯克均曾短暂成为世界首富，体现两人在科技和商业领域的巨大影响力。\\n- 两人领导的公司（亚马逊、特斯拉、SpaceX）在各自领域具有显著市场价值和创新能力。\\n- 微软在科技领域持续保持竞争力，萨蒂亚·纳德拉领导下公司不断发展。\\n\\n总结：\\n- 杰夫·贝佐斯与亚马逊、西雅图构成创始与地点的直接关联。\\n- 埃隆·马斯克与特斯拉、SpaceX构成领导与企业关联。\\n- 比尔·盖茨、萨蒂亚·纳德拉与微软、阿尔伯克基构成创始、领导与地点的关联。\\n- 这些人物与其创立或领导的公司共同推动了科技创新和产业发展，同时在财富和市场竞争中相互影响。',\n",
       "   'metrics': {'prompt_tokens': 585,\n",
       "    'system_tokens': 13,\n",
       "    'model': 'openai/gpt-4.1-mini',\n",
       "    'temperature': 0.7,\n",
       "    'max_tokens': 500,\n",
       "    'timestamp': 1752237607.9632435,\n",
       "    'latency': 4.436739206314087,\n",
       "    'response_tokens': 724,\n",
       "    'total_tokens': 1322,\n",
       "    'token_efficiency': 1.2107023411371238,\n",
       "    'tokens_per_second': 163.1829067098758}},\n",
       "  'generate_report': {'prompt': '基于这个关系分析创建一份简明的总结报告：\\n\\n基于上述实体，可以分析出以下主要关系：\\n\\n1. 创始与领导关系\\n- 杰夫·贝佐斯是亚马逊的创始人，1995年在西雅图创立亚马逊。\\n- 埃隆·马斯克是特斯拉的CEO，同时创立并领导SpaceX。\\n- 比尔·盖茨是微软的联合创始人，1975年在阿尔伯克基创立微软。\\n- 萨蒂亚·纳德拉是微软现任CEO，负责领导微软的运营和发展。\\n\\n2. 地点与创始关系\\n- 亚马逊创立于美国华盛顿州的西雅图。\\n- 微软创立于美国新墨西哥州的阿尔伯克基。\\n\\n3. 公司与行业关系\\n- 亚马逊是一家电子商务和云计算领域的全球领先企业。\\n- 特斯拉是电动汽车制造领域的创新者和领导者。\\n- SpaceX是航天制造和太空运输公司，致力于降低太空运输成本。\\n- 微软是软件和科技领域的全球领先公司。\\n\\n4. 竞争与财富关系\\n- 杰夫·贝佐斯和埃隆·马斯克均曾短暂成为世界首富，体现两人在科技和商业领域的巨大影响力。\\n- 两人领导的公司（亚马逊、特斯拉、SpaceX）在各自领域具有显著市场价值和创新能力。\\n- 微软在科技领域持续保持竞争力，萨蒂亚·纳德拉领导下公司不断发展。\\n\\n总结：\\n- 杰夫·贝佐斯与亚马逊、西雅图构成创始与地点的直接关联。\\n- 埃隆·马斯克与特斯拉、SpaceX构成领导与企业关联。\\n- 比尔·盖茨、萨蒂亚·纳德拉与微软、阿尔伯克基构成创始、领导与地点的关联。\\n- 这些人物与其创立或领导的公司共同推动了科技创新和产业发展，同时在财富和市场竞争中相互影响。',\n",
       "   'response': '简明总结报告\\n\\n本报告基于主要人物、企业及地点的关系分析，概述其创始、领导及行业地位：\\n\\n1. 创始与领导\\n- 杰夫·贝佐斯于1995年在西雅图创立亚马逊，推动电子商务和云计算发展。\\n- 埃隆·马斯克担任特斯拉CEO，并创立领导航天公司SpaceX，推动电动汽车和航天创新。\\n- 比尔·盖茨1975年在阿尔伯克基联合创立微软，开启软件科技新时代。\\n- 萨蒂亚·纳德拉现任微软CEO，持续推动公司技术创新与业务扩展。\\n\\n2. 地点关联\\n- 亚马逊起源于美国华盛顿州西雅图。\\n- 微软创立于美国新墨西哥州阿尔伯克基。\\n\\n3. 行业与竞争\\n- 亚马逊、特斯拉、SpaceX和微软均为各自领域的全球领导者，涵盖电子商务、云计算、电动汽车、航天及软件科技。\\n- 杰夫·贝佐斯和埃隆·马斯克曾交替成为世界首富，反映其在科技产业的显著影响力。\\n- 萨蒂亚·纳德拉领导下的微软保持行业竞争力和持续创新。\\n\\n结论\\n上述人物与企业在各自创立地点共同推动了科技创新及产业发展，且在财富与市场竞争中相互影响，彰显全球科技领域的领导力和创新活力。',\n",
       "   'metrics': {'prompt_tokens': 743,\n",
       "    'system_tokens': 16,\n",
       "    'model': 'openai/gpt-4.1-mini',\n",
       "    'temperature': 0.7,\n",
       "    'max_tokens': 500,\n",
       "    'timestamp': 1752237612.4039865,\n",
       "    'latency': 3.0284130573272705,\n",
       "    'response_tokens': 539,\n",
       "    'total_tokens': 1298,\n",
       "    'token_efficiency': 0.7101449275362319,\n",
       "    'tokens_per_second': 177.98100516568738}}})"
      ]
     },
     "execution_count": 17,
     "metadata": {},
     "output_type": "execute_result"
    }
   ],
   "source": [
    "example_sequential_chain()"
   ]
  },
  {
   "cell_type": "code",
   "execution_count": 15,
   "id": "a41fd357",
   "metadata": {},
   "outputs": [
    {
     "name": "stderr",
     "output_type": "stream",
     "text": [
      "2025-07-11 20:37:39,396 - __main__ - INFO - 生成初始回答\n",
      "2025-07-11 20:37:42,758 - httpx - INFO - HTTP Request: POST https://models.github.ai/inference/chat/completions \"HTTP/1.1 200 OK\"\n",
      "2025-07-11 20:37:42,761 - __main__ - INFO - 细化轮次 1/3\n",
      "2025-07-11 20:37:46,030 - httpx - INFO - HTTP Request: POST https://models.github.ai/inference/chat/completions \"HTTP/1.1 200 OK\"\n",
      "2025-07-11 20:37:46,035 - __main__ - INFO - 自动反馈：这段回答整体表达清晰，内容结构合理，涵盖了人工智能未来发展的多个重要领域及其潜在影响，且对机遇与挑战均有所提及，具有一定的深度和广度。具体评价如下：\n",
      "\n",
      "优点：\n",
      "1. 内容全面：涉及医疗、教育、交通、制造业等多个领域，展示了AI应用的多样性。\n",
      "2. 结构清晰：先阐述AI的积极作用，再提出潜在问题，最后总结呼吁，逻辑顺畅。\n",
      "3. 语言通顺：表达自然，易于理解。\n",
      "\n",
      "不足与改进建议：\n",
      "1. 细节不足：各领域的描述较为概括，缺少具体案例或数据支持，建议增加具体应用实例或最新研究成果，提高说服力。\n",
      "2. 观点深度有限：对挑战的分析较为表面，未深入探讨隐私保护、伦理道德等问题的复杂性及可能的解决方案，可增加相关讨论。\n",
      "3. 未来展望泛泛：关于“技术创新与社会规范的平衡”表述较宽泛，可具体说明如何实现这一平衡，如政策制定、公众参与、跨学科合作等。\n",
      "4. 语言风格可更具吸引力：加入一些生动的比喻或形象的描述，使内容更具感染力和吸引力。\n",
      "\n",
      "总体而言，该回答适合作为人工智能未来发展主题的简要介绍，若能结合更多具体细节和深入分析，内容将更具权威性和吸引力。\n",
      "2025-07-11 20:37:52,724 - httpx - INFO - HTTP Request: POST https://models.github.ai/inference/chat/completions \"HTTP/1.1 200 OK\"\n",
      "2025-07-11 20:37:52,730 - __main__ - INFO - 细化轮次 2/3\n",
      "2025-07-11 20:38:00,049 - httpx - INFO - HTTP Request: POST https://models.github.ai/inference/chat/completions \"HTTP/1.1 200 OK\"\n",
      "2025-07-11 20:38:00,053 - __main__ - INFO - 自动反馈：这段回答内容全面，结构清晰，涵盖了人工智能在多个领域的应用及其带来的社会问题，展望了未来发展的方向，体现出较强的逻辑性和信息量，整体质量较高。但仍有提升空间，具体建议如下：\n",
      "\n",
      "1. **内容完整性**  \n",
      "   回答末尾“推动跨学科”后未完成，导致内容不完整，建议补充完整句子，使论述更加连贯完整。\n",
      "\n",
      "2. **细节深入度**  \n",
      "   目前对各领域应用的介绍较为概括，建议增加更多具体案例或最新技术进展，增强说服力和权威感。例如医疗领域可补充更多AI如何辅助疾病预测、药物研发的实例。\n",
      "\n",
      "3. **语言表达**  \n",
      "   语言整体较正式，但部分句子略长且信息密集，容易造成理解负担。建议适当拆分长句，使用更简洁明了的表达，使内容更易读。\n",
      "\n",
      "4. **平衡视角**  \n",
      "   对AI负面影响的描述较为详细，但对其带来的积极社会变革和促进人类福祉的展望相对不足。建议在结尾部分强化AI促进社会进步的积极面，形成更加全面的评价。\n",
      "\n",
      "5. **逻辑衔接**  \n",
      "   各段之间的过渡部分可以更自然些，增加承接句或过渡语，使文章流畅度提升。\n",
      "\n",
      "6. **术语解释**  \n",
      "   对于专业名词如“自适应学习”、“自动决策系统”等，建议简要解释，方便不同背景读者理解。\n",
      "\n",
      "总结：该回答内容丰富，结构合理，基本满足高质量标准。通过补充完整内容、丰富案例、优化语言表达和增强逻辑衔接，可进一步提升阅读体验和专业度。\n",
      "2025-07-11 20:38:04,957 - httpx - INFO - HTTP Request: POST https://models.github.ai/inference/chat/completions \"HTTP/1.1 200 OK\"\n"
     ]
    },
    {
     "data": {
      "text/html": [
       "<h2>迭代细化结果</h2>"
      ],
      "text/plain": [
       "<IPython.core.display.HTML object>"
      ]
     },
     "metadata": {},
     "output_type": "display_data"
    },
    {
     "data": {
      "text/html": [
       "<h3>初始提示</h3>"
      ],
      "text/plain": [
       "<IPython.core.display.HTML object>"
      ]
     },
     "metadata": {},
     "output_type": "display_data"
    },
    {
     "data": {
      "text/markdown": [
       "```\n",
       "写一篇关于人工智能未来的短文。\n",
       "```"
      ],
      "text/plain": [
       "<IPython.core.display.Markdown object>"
      ]
     },
     "metadata": {},
     "output_type": "display_data"
    },
    {
     "data": {
      "text/html": [
       "<h3>初始回答</h3>"
      ],
      "text/plain": [
       "<IPython.core.display.HTML object>"
      ]
     },
     "metadata": {},
     "output_type": "display_data"
    },
    {
     "data": {
      "text/markdown": [
       "人工智能（AI）作为现代科技的重要前沿，正深刻改变着我们的生活和社会。未来，人工智能有望在医疗、教育、交通、制造等多个领域发挥更加重要的作用。在医疗方面，AI可以辅助医生进行精准诊断和个性化治疗，提高治愈率和医疗效率。在教育领域，智能教学系统将根据学生的兴趣和能力，提供定制化的学习方案，促进因材施教。交通运输则可能实现无人驾驶技术的广泛应用，提升安全性和出行效率。此外，随着AI技术的不断进步，智能机器人将更好地协助人类完成复杂和危险的任务，解放人力资源。\n",
       "\n",
       "然而，随着人工智能的普及，隐私保护、伦理道德和就业替代等问题也日益凸显。未来的发展需要在技术创新与社会规范之间找到平衡，确保人工智能造福全人类。总的来说，人工智能的未来充满机遇与挑战，我们应积极拥抱这一变革，推动科技与社会的和谐发展。"
      ],
      "text/plain": [
       "<IPython.core.display.Markdown object>"
      ]
     },
     "metadata": {},
     "output_type": "display_data"
    },
    {
     "data": {
      "text/html": [
       "<h3>第 1 轮</h3>"
      ],
      "text/plain": [
       "<IPython.core.display.HTML object>"
      ]
     },
     "metadata": {},
     "output_type": "display_data"
    },
    {
     "data": {
      "text/html": [
       "<h4>反馈：</h4>"
      ],
      "text/plain": [
       "<IPython.core.display.HTML object>"
      ]
     },
     "metadata": {},
     "output_type": "display_data"
    },
    {
     "data": {
      "text/markdown": [
       "这段回答整体表达清晰，内容结构合理，涵盖了人工智能未来发展的多个重要领域及其潜在影响，且对机遇与挑战均有所提及，具有一定的深度和广度。具体评价如下：\n",
       "\n",
       "优点：\n",
       "1. 内容全面：涉及医疗、教育、交通、制造业等多个领域，展示了AI应用的多样性。\n",
       "2. 结构清晰：先阐述AI的积极作用，再提出潜在问题，最后总结呼吁，逻辑顺畅。\n",
       "3. 语言通顺：表达自然，易于理解。\n",
       "\n",
       "不足与改进建议：\n",
       "1. 细节不足：各领域的描述较为概括，缺少具体案例或数据支持，建议增加具体应用实例或最新研究成果，提高说服力。\n",
       "2. 观点深度有限：对挑战的分析较为表面，未深入探讨隐私保护、伦理道德等问题的复杂性及可能的解决方案，可增加相关讨论。\n",
       "3. 未来展望泛泛：关于“技术创新与社会规范的平衡”表述较宽泛，可具体说明如何实现这一平衡，如政策制定、公众参与、跨学科合作等。\n",
       "4. 语言风格可更具吸引力：加入一些生动的比喻或形象的描述，使内容更具感染力和吸引力。\n",
       "\n",
       "总体而言，该回答适合作为人工智能未来发展主题的简要介绍，若能结合更多具体细节和深入分析，内容将更具权威性和吸引力。"
      ],
      "text/plain": [
       "<IPython.core.display.Markdown object>"
      ]
     },
     "metadata": {},
     "output_type": "display_data"
    },
    {
     "data": {
      "text/html": [
       "<h4>细化后回答：</h4>"
      ],
      "text/plain": [
       "<IPython.core.display.HTML object>"
      ]
     },
     "metadata": {},
     "output_type": "display_data"
    },
    {
     "data": {
      "text/markdown": [
       "人工智能（AI）作为当今科技发展的前沿领域，正以惊人的速度深刻重塑我们的生活和社会结构。展望未来，人工智能将在医疗、教育、交通、制造等多个关键领域发挥更加举足轻重的作用。\n",
       "\n",
       "在医疗领域，AI不仅能辅助医生实现精准诊断，还能通过大数据和机器学习技术，制定个性化治疗方案，显著提升治愈率和医疗效率。例如，谷歌旗下的DeepMind项目已成功开发出能够准确预测眼科疾病的AI系统，帮助临床医生提前干预，挽救患者视力。在教育方面，智能教学系统能够根据学生的兴趣、学习习惯和能力差异，量身定制个性化学习路径，实现真正的因材施教。像Knewton和Squirrel AI等平台，已经在自适应学习领域取得突破，极大提升了学习效果。交通运输领域，随着特斯拉、百度Apollo等无人驾驶技术的成熟，未来智能汽车有望减少交通事故、缓解拥堵，实现更安全、高效的出行体验。同时，制造业正借助AI优化生产流程和质量控制，推动智能工厂的建设，提升产业竞争力。智能机器人则将在执行复杂、危险任务方面大显身手，如灾难救援、深海探测等，解放人类劳动力，保障生命安全。\n",
       "\n",
       "然而，随着人工智能的广泛应用，隐私保护、伦理道德、就业替代等问题日益突出，成为亟需解决的社会难题。隐私方面，AI数据的采集与使用可能侵犯个人信息安全，如何通过严格的数据管理和加密技术保障用户隐私，是技术和法律共同面临的挑战。伦理层面，自动决策系统可能引发偏见和歧视，制定透明、公正的算法标准和监管机制尤为关键。就业替代则涉及产业转型和劳动力再培训，政府和企业需协同推动教育改革和职业技能提升，缓解就业压力。\n",
       "\n",
       "未来，人工智能的发展必须在技术创新与社会规范之间找到科学平衡。具体来说，应加强政策制定，构建完善的法律法规体系；鼓励公众参与和多方对话，提升社会认知和接受度；推动跨学科"
      ],
      "text/plain": [
       "<IPython.core.display.Markdown object>"
      ]
     },
     "metadata": {},
     "output_type": "display_data"
    },
    {
     "data": {
      "text/html": [
       "<h4>指标：</h4>"
      ],
      "text/plain": [
       "<IPython.core.display.HTML object>"
      ]
     },
     "metadata": {},
     "output_type": "display_data"
    },
    {
     "data": {
      "text/markdown": [
       "```\n",
       "提示令牌数: 971 | 响应令牌数: 901 | 总令牌数: 1885 | 延迟: 6.69秒 | 令牌效率: 0.92\n",
       "```"
      ],
      "text/plain": [
       "<IPython.core.display.Markdown object>"
      ]
     },
     "metadata": {},
     "output_type": "display_data"
    },
    {
     "data": {
      "text/html": [
       "<h3>第 2 轮</h3>"
      ],
      "text/plain": [
       "<IPython.core.display.HTML object>"
      ]
     },
     "metadata": {},
     "output_type": "display_data"
    },
    {
     "data": {
      "text/html": [
       "<h4>反馈：</h4>"
      ],
      "text/plain": [
       "<IPython.core.display.HTML object>"
      ]
     },
     "metadata": {},
     "output_type": "display_data"
    },
    {
     "data": {
      "text/markdown": [
       "这段回答内容全面，结构清晰，涵盖了人工智能在多个领域的应用及其带来的社会问题，展望了未来发展的方向，体现出较强的逻辑性和信息量，整体质量较高。但仍有提升空间，具体建议如下：\n",
       "\n",
       "1. **内容完整性**  \n",
       "   回答末尾“推动跨学科”后未完成，导致内容不完整，建议补充完整句子，使论述更加连贯完整。\n",
       "\n",
       "2. **细节深入度**  \n",
       "   目前对各领域应用的介绍较为概括，建议增加更多具体案例或最新技术进展，增强说服力和权威感。例如医疗领域可补充更多AI如何辅助疾病预测、药物研发的实例。\n",
       "\n",
       "3. **语言表达**  \n",
       "   语言整体较正式，但部分句子略长且信息密集，容易造成理解负担。建议适当拆分长句，使用更简洁明了的表达，使内容更易读。\n",
       "\n",
       "4. **平衡视角**  \n",
       "   对AI负面影响的描述较为详细，但对其带来的积极社会变革和促进人类福祉的展望相对不足。建议在结尾部分强化AI促进社会进步的积极面，形成更加全面的评价。\n",
       "\n",
       "5. **逻辑衔接**  \n",
       "   各段之间的过渡部分可以更自然些，增加承接句或过渡语，使文章流畅度提升。\n",
       "\n",
       "6. **术语解释**  \n",
       "   对于专业名词如“自适应学习”、“自动决策系统”等，建议简要解释，方便不同背景读者理解。\n",
       "\n",
       "总结：该回答内容丰富，结构合理，基本满足高质量标准。通过补充完整内容、丰富案例、优化语言表达和增强逻辑衔接，可进一步提升阅读体验和专业度。"
      ],
      "text/plain": [
       "<IPython.core.display.Markdown object>"
      ]
     },
     "metadata": {},
     "output_type": "display_data"
    },
    {
     "data": {
      "text/html": [
       "<h4>细化后回答：</h4>"
      ],
      "text/plain": [
       "<IPython.core.display.HTML object>"
      ]
     },
     "metadata": {},
     "output_type": "display_data"
    },
    {
     "data": {
      "text/markdown": [
       "人工智能（AI）作为当今科技发展的前沿领域，正以惊人的速度深刻重塑我们的生活和社会结构。展望未来，人工智能将在医疗、教育、交通、制造等多个关键领域发挥愈加重要的作用。\n",
       "\n",
       "在医疗领域，AI不仅辅助医生实现精准诊断，还通过大数据分析和机器学习技术，制定个性化治疗方案，显著提升治愈率和医疗效率。例如，谷歌旗下的DeepMind项目开发的AI系统，能够准确预测眼科疾病，帮助临床医生提前干预，挽救患者视力。此外，AI还推动了药物研发的创新，如利用深度学习加速新药分子的筛选和优化，缩短研发周期。类似IBM Watson Health通过整合海量医学文献，为临床决策提供智能支持，提升诊疗水平。\n",
       "\n",
       "在教育方面，智能教学系统能够根据学生的兴趣、学习习惯和能力差异，量身定制个性化学习路径，实现真正的因材施教。所谓“自适应学习”系统，指的是通过持续收集和分析学生的学习数据，动态调整教学内容和难度，最大化学习效果。以Knewton和Squirrel AI为代表的自适应学习平台，已经在提升学生成绩和学习积极性方面取得显著成效，推动教育公平和质量提升。\n",
       "\n",
       "交通运输领域，随着特斯拉、百度Apollo等无人驾驶技术的快速发展，智能汽车有望大幅减少交通事故、缓解城市拥堵，提升出行安全与效率。同时，AI还支持智能交通管理系统，通过实时监控和数据分析，优化信号灯控制和路线规划，促进绿色出行。制造业则借助AI优化生产流程和质量控制，推动智能工厂建设，提升产业竞争力。智能机器人在执行复杂、危险任务方面表现出色，如灾难救援、深海探测等，不仅解放人类劳动力，还保障了生命安全。\n",
       "\n",
       "然而，随着人工智能的广泛应用，隐私保护、伦理道德和就业替代等问题日益突出，成为亟需解决的社会难题。在隐私方面，AI的数据采集与使用可能侵犯个人信息安全，如何通过严格的数据管理、加密技术和法律规范保障用户"
      ],
      "text/plain": [
       "<IPython.core.display.Markdown object>"
      ]
     },
     "metadata": {},
     "output_type": "display_data"
    },
    {
     "data": {
      "text/html": [
       "<h4>指标：</h4>"
      ],
      "text/plain": [
       "<IPython.core.display.HTML object>"
      ]
     },
     "metadata": {},
     "output_type": "display_data"
    },
    {
     "data": {
      "text/markdown": [
       "```\n",
       "提示令牌数: 1558 | 响应令牌数: 897 | 总令牌数: 2468 | 延迟: 4.91秒 | 令牌效率: 0.57\n",
       "```"
      ],
      "text/plain": [
       "<IPython.core.display.Markdown object>"
      ]
     },
     "metadata": {},
     "output_type": "display_data"
    },
    {
     "data": {
      "text/html": [
       "<h3>细化汇总</h3>"
      ],
      "text/plain": [
       "<IPython.core.display.HTML object>"
      ]
     },
     "metadata": {},
     "output_type": "display_data"
    },
    {
     "data": {
      "text/markdown": [
       "\n",
       "        - 初始提示令牌数: 19\n",
       "        - 初始回答令牌数: 420\n",
       "        - 总细化轮数: 2\n",
       "        - 最终回答令牌数: 897\n",
       "        "
      ],
      "text/plain": [
       "<IPython.core.display.Markdown object>"
      ]
     },
     "metadata": {},
     "output_type": "display_data"
    },
    {
     "data": {
      "image/png": "[encoded data removed]",
      "text/plain": [
       "<Figure size 1200x800 with 4 Axes>"
      ]
     },
     "metadata": {},
     "output_type": "display_data"
    },
    {
     "data": {
      "text/plain": [
       "('人工智能（AI）作为当今科技发展的前沿领域，正以惊人的速度深刻重塑我们的生活和社会结构。展望未来，人工智能将在医疗、教育、交通、制造等多个关键领域发挥愈加重要的作用。\\n\\n在医疗领域，AI不仅辅助医生实现精准诊断，还通过大数据分析和机器学习技术，制定个性化治疗方案，显著提升治愈率和医疗效率。例如，谷歌旗下的DeepMind项目开发的AI系统，能够准确预测眼科疾病，帮助临床医生提前干预，挽救患者视力。此外，AI还推动了药物研发的创新，如利用深度学习加速新药分子的筛选和优化，缩短研发周期。类似IBM Watson Health通过整合海量医学文献，为临床决策提供智能支持，提升诊疗水平。\\n\\n在教育方面，智能教学系统能够根据学生的兴趣、学习习惯和能力差异，量身定制个性化学习路径，实现真正的因材施教。所谓“自适应学习”系统，指的是通过持续收集和分析学生的学习数据，动态调整教学内容和难度，最大化学习效果。以Knewton和Squirrel AI为代表的自适应学习平台，已经在提升学生成绩和学习积极性方面取得显著成效，推动教育公平和质量提升。\\n\\n交通运输领域，随着特斯拉、百度Apollo等无人驾驶技术的快速发展，智能汽车有望大幅减少交通事故、缓解城市拥堵，提升出行安全与效率。同时，AI还支持智能交通管理系统，通过实时监控和数据分析，优化信号灯控制和路线规划，促进绿色出行。制造业则借助AI优化生产流程和质量控制，推动智能工厂建设，提升产业竞争力。智能机器人在执行复杂、危险任务方面表现出色，如灾难救援、深海探测等，不仅解放人类劳动力，还保障了生命安全。\\n\\n然而，随着人工智能的广泛应用，隐私保护、伦理道德和就业替代等问题日益突出，成为亟需解决的社会难题。在隐私方面，AI的数据采集与使用可能侵犯个人信息安全，如何通过严格的数据管理、加密技术和法律规范保障用户',\n",
       " {'initial': {'prompt': '写一篇关于人工智能未来的短文。',\n",
       "   'response': '人工智能（AI）作为现代科技的重要前沿，正深刻改变着我们的生活和社会。未来，人工智能有望在医疗、教育、交通、制造等多个领域发挥更加重要的作用。在医疗方面，AI可以辅助医生进行精准诊断和个性化治疗，提高治愈率和医疗效率。在教育领域，智能教学系统将根据学生的兴趣和能力，提供定制化的学习方案，促进因材施教。交通运输则可能实现无人驾驶技术的广泛应用，提升安全性和出行效率。此外，随着AI技术的不断进步，智能机器人将更好地协助人类完成复杂和危险的任务，解放人力资源。\\n\\n然而，随着人工智能的普及，隐私保护、伦理道德和就业替代等问题也日益凸显。未来的发展需要在技术创新与社会规范之间找到平衡，确保人工智能造福全人类。总的来说，人工智能的未来充满机遇与挑战，我们应积极拥抱这一变革，推动科技与社会的和谐发展。',\n",
       "   'metrics': {'prompt_tokens': 19,\n",
       "    'system_tokens': 13,\n",
       "    'model': 'openai/gpt-4.1-mini',\n",
       "    'temperature': 0.7,\n",
       "    'max_tokens': 500,\n",
       "    'timestamp': 1752237459.6006756,\n",
       "    'latency': 3.1599783897399902,\n",
       "    'response_tokens': 420,\n",
       "    'total_tokens': 452,\n",
       "    'token_efficiency': 13.125,\n",
       "    'tokens_per_second': 132.912301351073}},\n",
       "  'iterations': [{'iteration': 1,\n",
       "    'feedback': '这段回答整体表达清晰，内容结构合理，涵盖了人工智能未来发展的多个重要领域及其潜在影响，且对机遇与挑战均有所提及，具有一定的深度和广度。具体评价如下：\\n\\n优点：\\n1. 内容全面：涉及医疗、教育、交通、制造业等多个领域，展示了AI应用的多样性。\\n2. 结构清晰：先阐述AI的积极作用，再提出潜在问题，最后总结呼吁，逻辑顺畅。\\n3. 语言通顺：表达自然，易于理解。\\n\\n不足与改进建议：\\n1. 细节不足：各领域的描述较为概括，缺少具体案例或数据支持，建议增加具体应用实例或最新研究成果，提高说服力。\\n2. 观点深度有限：对挑战的分析较为表面，未深入探讨隐私保护、伦理道德等问题的复杂性及可能的解决方案，可增加相关讨论。\\n3. 未来展望泛泛：关于“技术创新与社会规范的平衡”表述较宽泛，可具体说明如何实现这一平衡，如政策制定、公众参与、跨学科合作等。\\n4. 语言风格可更具吸引力：加入一些生动的比喻或形象的描述，使内容更具感染力和吸引力。\\n\\n总体而言，该回答适合作为人工智能未来发展主题的简要介绍，若能结合更多具体细节和深入分析，内容将更具权威性和吸引力。',\n",
       "    'feedback_metrics': {'prompt_tokens': 442,\n",
       "     'system_tokens': 13,\n",
       "     'model': 'openai/gpt-4.1-mini',\n",
       "     'temperature': 0.7,\n",
       "     'max_tokens': 500,\n",
       "     'timestamp': 1752237462.7626693,\n",
       "     'latency': 3.272217035293579,\n",
       "     'response_tokens': 537,\n",
       "     'total_tokens': 992,\n",
       "     'token_efficiency': 1.1802197802197802,\n",
       "     'tokens_per_second': 164.10891887916017},\n",
       "    'refined_response': '人工智能（AI）作为当今科技发展的前沿领域，正以惊人的速度深刻重塑我们的生活和社会结构。展望未来，人工智能将在医疗、教育、交通、制造等多个关键领域发挥更加举足轻重的作用。\\n\\n在医疗领域，AI不仅能辅助医生实现精准诊断，还能通过大数据和机器学习技术，制定个性化治疗方案，显著提升治愈率和医疗效率。例如，谷歌旗下的DeepMind项目已成功开发出能够准确预测眼科疾病的AI系统，帮助临床医生提前干预，挽救患者视力。在教育方面，智能教学系统能够根据学生的兴趣、学习习惯和能力差异，量身定制个性化学习路径，实现真正的因材施教。像Knewton和Squirrel AI等平台，已经在自适应学习领域取得突破，极大提升了学习效果。交通运输领域，随着特斯拉、百度Apollo等无人驾驶技术的成熟，未来智能汽车有望减少交通事故、缓解拥堵，实现更安全、高效的出行体验。同时，制造业正借助AI优化生产流程和质量控制，推动智能工厂的建设，提升产业竞争力。智能机器人则将在执行复杂、危险任务方面大显身手，如灾难救援、深海探测等，解放人类劳动力，保障生命安全。\\n\\n然而，随着人工智能的广泛应用，隐私保护、伦理道德、就业替代等问题日益突出，成为亟需解决的社会难题。隐私方面，AI数据的采集与使用可能侵犯个人信息安全，如何通过严格的数据管理和加密技术保障用户隐私，是技术和法律共同面临的挑战。伦理层面，自动决策系统可能引发偏见和歧视，制定透明、公正的算法标准和监管机制尤为关键。就业替代则涉及产业转型和劳动力再培训，政府和企业需协同推动教育改革和职业技能提升，缓解就业压力。\\n\\n未来，人工智能的发展必须在技术创新与社会规范之间找到科学平衡。具体来说，应加强政策制定，构建完善的法律法规体系；鼓励公众参与和多方对话，提升社会认知和接受度；推动跨学科',\n",
       "    'refinement_metrics': {'prompt_tokens': 971,\n",
       "     'system_tokens': 13,\n",
       "     'model': 'openai/gpt-4.1-mini',\n",
       "     'temperature': 0.7,\n",
       "     'max_tokens': 500,\n",
       "     'timestamp': 1752237466.0388877,\n",
       "     'latency': 6.690833806991577,\n",
       "     'response_tokens': 901,\n",
       "     'total_tokens': 1885,\n",
       "     'token_efficiency': 0.915650406504065,\n",
       "     'tokens_per_second': 134.66184125788646}},\n",
       "   {'iteration': 2,\n",
       "    'feedback': '这段回答内容全面，结构清晰，涵盖了人工智能在多个领域的应用及其带来的社会问题，展望了未来发展的方向，体现出较强的逻辑性和信息量，整体质量较高。但仍有提升空间，具体建议如下：\\n\\n1. **内容完整性**  \\n   回答末尾“推动跨学科”后未完成，导致内容不完整，建议补充完整句子，使论述更加连贯完整。\\n\\n2. **细节深入度**  \\n   目前对各领域应用的介绍较为概括，建议增加更多具体案例或最新技术进展，增强说服力和权威感。例如医疗领域可补充更多AI如何辅助疾病预测、药物研发的实例。\\n\\n3. **语言表达**  \\n   语言整体较正式，但部分句子略长且信息密集，容易造成理解负担。建议适当拆分长句，使用更简洁明了的表达，使内容更易读。\\n\\n4. **平衡视角**  \\n   对AI负面影响的描述较为详细，但对其带来的积极社会变革和促进人类福祉的展望相对不足。建议在结尾部分强化AI促进社会进步的积极面，形成更加全面的评价。\\n\\n5. **逻辑衔接**  \\n   各段之间的过渡部分可以更自然些，增加承接句或过渡语，使文章流畅度提升。\\n\\n6. **术语解释**  \\n   对于专业名词如“自适应学习”、“自动决策系统”等，建议简要解释，方便不同背景读者理解。\\n\\n总结：该回答内容丰富，结构合理，基本满足高质量标准。通过补充完整内容、丰富案例、优化语言表达和增强逻辑衔接，可进一步提升阅读体验和专业度。',\n",
       "    'feedback_metrics': {'prompt_tokens': 923,\n",
       "     'system_tokens': 13,\n",
       "     'model': 'openai/gpt-4.1-mini',\n",
       "     'temperature': 0.7,\n",
       "     'max_tokens': 500,\n",
       "     'timestamp': 1752237472.7337203,\n",
       "     'latency': 7.31859564781189,\n",
       "     'response_tokens': 642,\n",
       "     'total_tokens': 1578,\n",
       "     'token_efficiency': 0.6858974358974359,\n",
       "     'tokens_per_second': 87.72174757215134},\n",
       "    'refined_response': '人工智能（AI）作为当今科技发展的前沿领域，正以惊人的速度深刻重塑我们的生活和社会结构。展望未来，人工智能将在医疗、教育、交通、制造等多个关键领域发挥愈加重要的作用。\\n\\n在医疗领域，AI不仅辅助医生实现精准诊断，还通过大数据分析和机器学习技术，制定个性化治疗方案，显著提升治愈率和医疗效率。例如，谷歌旗下的DeepMind项目开发的AI系统，能够准确预测眼科疾病，帮助临床医生提前干预，挽救患者视力。此外，AI还推动了药物研发的创新，如利用深度学习加速新药分子的筛选和优化，缩短研发周期。类似IBM Watson Health通过整合海量医学文献，为临床决策提供智能支持，提升诊疗水平。\\n\\n在教育方面，智能教学系统能够根据学生的兴趣、学习习惯和能力差异，量身定制个性化学习路径，实现真正的因材施教。所谓“自适应学习”系统，指的是通过持续收集和分析学生的学习数据，动态调整教学内容和难度，最大化学习效果。以Knewton和Squirrel AI为代表的自适应学习平台，已经在提升学生成绩和学习积极性方面取得显著成效，推动教育公平和质量提升。\\n\\n交通运输领域，随着特斯拉、百度Apollo等无人驾驶技术的快速发展，智能汽车有望大幅减少交通事故、缓解城市拥堵，提升出行安全与效率。同时，AI还支持智能交通管理系统，通过实时监控和数据分析，优化信号灯控制和路线规划，促进绿色出行。制造业则借助AI优化生产流程和质量控制，推动智能工厂建设，提升产业竞争力。智能机器人在执行复杂、危险任务方面表现出色，如灾难救援、深海探测等，不仅解放人类劳动力，还保障了生命安全。\\n\\n然而，随着人工智能的广泛应用，隐私保护、伦理道德和就业替代等问题日益突出，成为亟需解决的社会难题。在隐私方面，AI的数据采集与使用可能侵犯个人信息安全，如何通过严格的数据管理、加密技术和法律规范保障用户',\n",
       "    'refinement_metrics': {'prompt_tokens': 1558,\n",
       "     'system_tokens': 13,\n",
       "     'model': 'openai/gpt-4.1-mini',\n",
       "     'temperature': 0.7,\n",
       "     'max_tokens': 500,\n",
       "     'timestamp': 1752237480.056313,\n",
       "     'latency': 4.907529830932617,\n",
       "     'response_tokens': 897,\n",
       "     'total_tokens': 2468,\n",
       "     'token_efficiency': 0.5709739019732655,\n",
       "     'tokens_per_second': 182.7803458974667}}]})"
      ]
     },
     "execution_count": 15,
     "metadata": {},
     "output_type": "execute_result"
    }
   ],
   "source": [
    "example_iterative_refiner()"
   ]
  },
  {
   "cell_type": "code",
   "execution_count": 16,
   "id": "15b0c719",
   "metadata": {},
   "outputs": [
    {
     "name": "stderr",
     "output_type": "stream",
     "text": [
      "2025-07-11 20:39:05,630 - __main__ - INFO - 正在分类输入\n",
      "2025-07-11 20:39:07,241 - httpx - INFO - HTTP Request: POST https://models.github.ai/inference/chat/completions \"HTTP/1.1 200 OK\"\n",
      "2025-07-11 20:39:07,246 - __main__ - INFO - 执行分支: simplified\n",
      "2025-07-11 20:39:09,040 - httpx - INFO - HTTP Request: POST https://models.github.ai/inference/chat/completions \"HTTP/1.1 200 OK\"\n"
     ]
    },
    {
     "data": {
      "text/html": [
       "<h2>条件分支结果</h2>"
      ],
      "text/plain": [
       "<IPython.core.display.HTML object>"
      ]
     },
     "metadata": {},
     "output_type": "display_data"
    },
    {
     "data": {
      "text/html": [
       "<h3>输入</h3>"
      ],
      "text/plain": [
       "<IPython.core.display.HTML object>"
      ]
     },
     "metadata": {},
     "output_type": "display_data"
    },
    {
     "data": {
      "text/markdown": [
       "量子计算是如何工作的？"
      ],
      "text/plain": [
       "<IPython.core.display.Markdown object>"
      ]
     },
     "metadata": {},
     "output_type": "display_data"
    },
    {
     "data": {
      "text/html": [
       "<h3>分类结果</h3>"
      ],
      "text/plain": [
       "<IPython.core.display.HTML object>"
      ]
     },
     "metadata": {},
     "output_type": "display_data"
    },
    {
     "data": {
      "text/markdown": [
       "选定分支: **simplified**"
      ],
      "text/plain": [
       "<IPython.core.display.Markdown object>"
      ]
     },
     "metadata": {},
     "output_type": "display_data"
    },
    {
     "data": {
      "text/html": [
       "<h4>分类指标：</h4>"
      ],
      "text/plain": [
       "<IPython.core.display.HTML object>"
      ]
     },
     "metadata": {},
     "output_type": "display_data"
    },
    {
     "data": {
      "text/markdown": [
       "```\n",
       "提示令牌数: 40 | 响应令牌数: 5 | 总令牌数: 63 | 延迟: 1.62秒 | 令牌效率: 0.09\n",
       "```"
      ],
      "text/plain": [
       "<IPython.core.display.Markdown object>"
      ]
     },
     "metadata": {},
     "output_type": "display_data"
    },
    {
     "data": {
      "text/html": [
       "<h3>分支执行结果</h3>"
      ],
      "text/plain": [
       "<IPython.core.display.HTML object>"
      ]
     },
     "metadata": {},
     "output_type": "display_data"
    },
    {
     "data": {
      "text/html": [
       "<h4>分支：</h4>"
      ],
      "text/plain": [
       "<IPython.core.display.HTML object>"
      ]
     },
     "metadata": {},
     "output_type": "display_data"
    },
    {
     "data": {
      "text/markdown": [
       "**simplified**"
      ],
      "text/plain": [
       "<IPython.core.display.Markdown object>"
      ]
     },
     "metadata": {},
     "output_type": "display_data"
    },
    {
     "data": {
      "text/html": [
       "<h4>响应：</h4>"
      ],
      "text/plain": [
       "<IPython.core.display.HTML object>"
      ]
     },
     "metadata": {},
     "output_type": "display_data"
    },
    {
     "data": {
      "text/markdown": [
       "好的！想象你有一个超级神奇的魔法盒子，它可以同时试很多不同的答案，而不是像普通电脑那样一个一个试。量子计算就是用这种魔法盒子来解决很难的问题。\n",
       "\n",
       "普通电脑用“开”和“关”（就是0和1）来工作，就像灯泡开着或关着。但量子计算机用的是叫“量子比特”的小东西，这些小东西可以同时是“开”和“关”，像魔法一样。\n",
       "\n",
       "因为它们能同时做很多事情，量子计算机能比普通电脑更快地解决某些特别难的问题，比如找大宝藏或者破解超级复杂的谜题。\n",
       "\n",
       "总结就是：量子计算机用神奇的“量子比特”，能同时尝试很多答案，所以它非常聪明，可以快速解决普通电脑做起来很难的问题。"
      ],
      "text/plain": [
       "<IPython.core.display.Markdown object>"
      ]
     },
     "metadata": {},
     "output_type": "display_data"
    },
    {
     "data": {
      "text/html": [
       "<h4>执行指标：</h4>"
      ],
      "text/plain": [
       "<IPython.core.display.HTML object>"
      ]
     },
     "metadata": {},
     "output_type": "display_data"
    },
    {
     "data": {
      "text/markdown": [
       "```\n",
       "提示令牌数: 33 | 响应令牌数: 306 | 总令牌数: 366 | 延迟: 1.80秒 | 令牌效率: 5.10\n",
       "```"
      ],
      "text/plain": [
       "<IPython.core.display.Markdown object>"
      ]
     },
     "metadata": {},
     "output_type": "display_data"
    },
    {
     "name": "stderr",
     "output_type": "stream",
     "text": [
      "2025-07-11 20:39:09,072 - __main__ - INFO - 正在分类输入\n",
      "2025-07-11 20:39:21,349 - httpx - INFO - HTTP Request: POST https://models.github.ai/inference/chat/completions \"HTTP/1.1 200 OK\"\n",
      "2025-07-11 20:39:21,351 - __main__ - INFO - 执行分支: simplified\n",
      "2025-07-11 20:39:22,776 - httpx - INFO - HTTP Request: POST https://models.github.ai/inference/chat/completions \"HTTP/1.1 200 OK\"\n"
     ]
    },
    {
     "data": {
      "text/html": [
       "<h2>条件分支结果</h2>"
      ],
      "text/plain": [
       "<IPython.core.display.HTML object>"
      ]
     },
     "metadata": {},
     "output_type": "display_data"
    },
    {
     "data": {
      "text/html": [
       "<h3>输入</h3>"
      ],
      "text/plain": [
       "<IPython.core.display.HTML object>"
      ]
     },
     "metadata": {},
     "output_type": "display_data"
    },
    {
     "data": {
      "text/markdown": [
       "什么是气候变化？"
      ],
      "text/plain": [
       "<IPython.core.display.Markdown object>"
      ]
     },
     "metadata": {},
     "output_type": "display_data"
    },
    {
     "data": {
      "text/html": [
       "<h3>分类结果</h3>"
      ],
      "text/plain": [
       "<IPython.core.display.HTML object>"
      ]
     },
     "metadata": {},
     "output_type": "display_data"
    },
    {
     "data": {
      "text/markdown": [
       "选定分支: **simplified**"
      ],
      "text/plain": [
       "<IPython.core.display.Markdown object>"
      ]
     },
     "metadata": {},
     "output_type": "display_data"
    },
    {
     "data": {
      "text/html": [
       "<h4>分类指标：</h4>"
      ],
      "text/plain": [
       "<IPython.core.display.HTML object>"
      ]
     },
     "metadata": {},
     "output_type": "display_data"
    },
    {
     "data": {
      "text/markdown": [
       "```\n",
       "提示令牌数: 40 | 响应令牌数: 5 | 总令牌数: 63 | 延迟: 12.28秒 | 令牌效率: 0.09\n",
       "```"
      ],
      "text/plain": [
       "<IPython.core.display.Markdown object>"
      ]
     },
     "metadata": {},
     "output_type": "display_data"
    },
    {
     "data": {
      "text/html": [
       "<h3>分支执行结果</h3>"
      ],
      "text/plain": [
       "<IPython.core.display.HTML object>"
      ]
     },
     "metadata": {},
     "output_type": "display_data"
    },
    {
     "data": {
      "text/html": [
       "<h4>分支：</h4>"
      ],
      "text/plain": [
       "<IPython.core.display.HTML object>"
      ]
     },
     "metadata": {},
     "output_type": "display_data"
    },
    {
     "data": {
      "text/markdown": [
       "**simplified**"
      ],
      "text/plain": [
       "<IPython.core.display.Markdown object>"
      ]
     },
     "metadata": {},
     "output_type": "display_data"
    },
    {
     "data": {
      "text/html": [
       "<h4>响应：</h4>"
      ],
      "text/plain": [
       "<IPython.core.display.HTML object>"
      ]
     },
     "metadata": {},
     "output_type": "display_data"
    },
    {
     "data": {
      "text/markdown": [
       "好的！气候变化就是说地球的天气和气温慢慢地发生了大变化。比如，有时候会变得比以前更热，或者下雨和下雪的方式也不一样了。这个变化是因为人们用汽车、工厂和砍树，让空气里有了很多叫做“二氧化碳”的气体，这些气体就像一层厚厚的毯子把地球包起来，让地球变暖了。气候变化会影响动物、植物，还有我们生活的地方，所以我们要保护地球，减少这些气体，让地球变得更健康。"
      ],
      "text/plain": [
       "<IPython.core.display.Markdown object>"
      ]
     },
     "metadata": {},
     "output_type": "display_data"
    },
    {
     "data": {
      "text/html": [
       "<h4>执行指标：</h4>"
      ],
      "text/plain": [
       "<IPython.core.display.HTML object>"
      ]
     },
     "metadata": {},
     "output_type": "display_data"
    },
    {
     "data": {
      "text/markdown": [
       "```\n",
       "提示令牌数: 33 | 响应令牌数: 215 | 总令牌数: 275 | 延迟: 1.43秒 | 令牌效率: 3.58\n",
       "```"
      ],
      "text/plain": [
       "<IPython.core.display.Markdown object>"
      ]
     },
     "metadata": {},
     "output_type": "display_data"
    },
    {
     "name": "stderr",
     "output_type": "stream",
     "text": [
      "2025-07-11 20:39:22,801 - __main__ - INFO - 正在分类输入\n",
      "2025-07-11 20:39:23,564 - httpx - INFO - HTTP Request: POST https://models.github.ai/inference/chat/completions \"HTTP/1.1 200 OK\"\n",
      "2025-07-11 20:39:23,567 - __main__ - INFO - 执行分支: practical\n",
      "2025-07-11 20:39:27,015 - httpx - INFO - HTTP Request: POST https://models.github.ai/inference/chat/completions \"HTTP/1.1 200 OK\"\n"
     ]
    },
    {
     "data": {
      "text/html": [
       "<h2>条件分支结果</h2>"
      ],
      "text/plain": [
       "<IPython.core.display.HTML object>"
      ]
     },
     "metadata": {},
     "output_type": "display_data"
    },
    {
     "data": {
      "text/html": [
       "<h3>输入</h3>"
      ],
      "text/plain": [
       "<IPython.core.display.HTML object>"
      ]
     },
     "metadata": {},
     "output_type": "display_data"
    },
    {
     "data": {
      "text/markdown": [
       "我该如何提高公众演讲技巧？"
      ],
      "text/plain": [
       "<IPython.core.display.Markdown object>"
      ]
     },
     "metadata": {},
     "output_type": "display_data"
    },
    {
     "data": {
      "text/html": [
       "<h3>分类结果</h3>"
      ],
      "text/plain": [
       "<IPython.core.display.HTML object>"
      ]
     },
     "metadata": {},
     "output_type": "display_data"
    },
    {
     "data": {
      "text/markdown": [
       "选定分支: **practical**"
      ],
      "text/plain": [
       "<IPython.core.display.Markdown object>"
      ]
     },
     "metadata": {},
     "output_type": "display_data"
    },
    {
     "data": {
      "text/html": [
       "<h4>分类指标：</h4>"
      ],
      "text/plain": [
       "<IPython.core.display.HTML object>"
      ]
     },
     "metadata": {},
     "output_type": "display_data"
    },
    {
     "data": {
      "text/markdown": [
       "```\n",
       "提示令牌数: 46 | 响应令牌数: 5 | 总令牌数: 69 | 延迟: 0.76秒 | 令牌效率: 0.08\n",
       "```"
      ],
      "text/plain": [
       "<IPython.core.display.Markdown object>"
      ]
     },
     "metadata": {},
     "output_type": "display_data"
    },
    {
     "data": {
      "text/html": [
       "<h3>分支执行结果</h3>"
      ],
      "text/plain": [
       "<IPython.core.display.HTML object>"
      ]
     },
     "metadata": {},
     "output_type": "display_data"
    },
    {
     "data": {
      "text/html": [
       "<h4>分支：</h4>"
      ],
      "text/plain": [
       "<IPython.core.display.HTML object>"
      ]
     },
     "metadata": {},
     "output_type": "display_data"
    },
    {
     "data": {
      "text/markdown": [
       "**practical**"
      ],
      "text/plain": [
       "<IPython.core.display.Markdown object>"
      ]
     },
     "metadata": {},
     "output_type": "display_data"
    },
    {
     "data": {
      "text/html": [
       "<h4>响应：</h4>"
      ],
      "text/plain": [
       "<IPython.core.display.HTML object>"
      ]
     },
     "metadata": {},
     "output_type": "display_data"
    },
    {
     "data": {
      "text/markdown": [
       "提高公众演讲技巧，关键在于系统练习和有效准备。以下是具体、可操作的建议：\n",
       "\n",
       "1. 明确演讲目标和受众  \n",
       "   - 在准备演讲前，明确你想传达的核心信息。  \n",
       "   - 了解听众的背景、兴趣和需求，调整内容和语言风格。\n",
       "\n",
       "2. 制定结构清晰的演讲大纲  \n",
       "   - 开头吸引注意力（故事、问题、数据等）。  \n",
       "   - 主体部分分点阐述，逻辑清晰。  \n",
       "   - 结尾总结重点并呼吁行动。\n",
       "\n",
       "3. 多次练习  \n",
       "   - 对着镜子练习，注意表情和肢体语言。  \n",
       "   - 用手机录音或录像，回看并改进。  \n",
       "   - 进行模拟演讲，邀请朋友或同事给予反馈。\n",
       "\n",
       "4. 控制紧张情绪  \n",
       "   - 演讲前深呼吸，做放松练习。  \n",
       "   - 通过充分准备建立自信。  \n",
       "   - 视听众为朋友，减少心理压力。\n",
       "\n",
       "5. 注重非语言沟通  \n",
       "   - 保持眼神交流，增强互动感。  \n",
       "   - 使用适当的手势辅助表达。  \n",
       "   - 控制语速和音量，避免单调。\n",
       "\n",
       "6. 利用视觉辅助工具  \n",
       "   - 制作简洁明了的PPT或图表，突出重点。  \n",
       "   - 不要过度依赖幻灯片，保持与听众的互动。\n",
       "\n",
       "7. 持续学习和改进  \n",
       "   - 观看优秀演讲视频，学习技巧。  \n",
       "   - 参加演讲培训班或加入演讲俱乐部（如Toastmasters）。  \n",
       "   - 不断积累演讲经验，逐步提升。\n",
       "\n",
       "通过以上步骤，逐步提升你的公众演讲能力，做到内容丰富、表达自信、感染力强。"
      ],
      "text/plain": [
       "<IPython.core.display.Markdown object>"
      ]
     },
     "metadata": {},
     "output_type": "display_data"
    },
    {
     "data": {
      "text/html": [
       "<h4>执行指标：</h4>"
      ],
      "text/plain": [
       "<IPython.core.display.HTML object>"
      ]
     },
     "metadata": {},
     "output_type": "display_data"
    },
    {
     "data": {
      "text/markdown": [
       "```\n",
       "提示令牌数: 35 | 响应令牌数: 613 | 总令牌数: 667 | 延迟: 3.45秒 | 令牌效率: 11.35\n",
       "```"
      ],
      "text/plain": [
       "<IPython.core.display.Markdown object>"
      ]
     },
     "metadata": {},
     "output_type": "display_data"
    },
    {
     "data": {
      "image/png": "[encoded data removed]",
      "text/plain": [
       "<Figure size 1200x800 with 4 Axes>"
      ]
     },
     "metadata": {},
     "output_type": "display_data"
    },
    {
     "data": {
      "text/plain": [
       "[('量子计算是如何工作的？',\n",
       "  '好的！想象你有一个超级神奇的魔法盒子，它可以同时试很多不同的答案，而不是像普通电脑那样一个一个试。量子计算就是用这种魔法盒子来解决很难的问题。\\n\\n普通电脑用“开”和“关”（就是0和1）来工作，就像灯泡开着或关着。但量子计算机用的是叫“量子比特”的小东西，这些小东西可以同时是“开”和“关”，像魔法一样。\\n\\n因为它们能同时做很多事情，量子计算机能比普通电脑更快地解决某些特别难的问题，比如找大宝藏或者破解超级复杂的谜题。\\n\\n总结就是：量子计算机用神奇的“量子比特”，能同时尝试很多答案，所以它非常聪明，可以快速解决普通电脑做起来很难的问题。',\n",
       "  {'input': '量子计算是如何工作的？',\n",
       "   'classification': {'branch': 'simplified',\n",
       "    'metrics': {'prompt_tokens': 40,\n",
       "     'system_tokens': 18,\n",
       "     'model': 'openai/gpt-4.1-mini',\n",
       "     'temperature': 0.7,\n",
       "     'max_tokens': 500,\n",
       "     'timestamp': 1752237545.6314738,\n",
       "     'latency': 1.6154792308807373,\n",
       "     'response_tokens': 5,\n",
       "     'total_tokens': 63,\n",
       "     'token_efficiency': 0.08620689655172414,\n",
       "     'tokens_per_second': 3.0950568131253955}},\n",
       "   'execution': {'branch': 'simplified',\n",
       "    'response': '好的！想象你有一个超级神奇的魔法盒子，它可以同时试很多不同的答案，而不是像普通电脑那样一个一个试。量子计算就是用这种魔法盒子来解决很难的问题。\\n\\n普通电脑用“开”和“关”（就是0和1）来工作，就像灯泡开着或关着。但量子计算机用的是叫“量子比特”的小东西，这些小东西可以同时是“开”和“关”，像魔法一样。\\n\\n因为它们能同时做很多事情，量子计算机能比普通电脑更快地解决某些特别难的问题，比如找大宝藏或者破解超级复杂的谜题。\\n\\n总结就是：量子计算机用神奇的“量子比特”，能同时尝试很多答案，所以它非常聪明，可以快速解决普通电脑做起来很难的问题。',\n",
       "    'metrics': {'prompt_tokens': 33,\n",
       "     'system_tokens': 27,\n",
       "     'model': 'openai/gpt-4.1-mini',\n",
       "     'temperature': 0.7,\n",
       "     'max_tokens': 500,\n",
       "     'timestamp': 1752237547.248952,\n",
       "     'latency': 1.7960116863250732,\n",
       "     'response_tokens': 306,\n",
       "     'total_tokens': 366,\n",
       "     'token_efficiency': 5.1,\n",
       "     'tokens_per_second': 170.37751053063852}}}),\n",
       " ('什么是气候变化？',\n",
       "  '好的！气候变化就是说地球的天气和气温慢慢地发生了大变化。比如，有时候会变得比以前更热，或者下雨和下雪的方式也不一样了。这个变化是因为人们用汽车、工厂和砍树，让空气里有了很多叫做“二氧化碳”的气体，这些气体就像一层厚厚的毯子把地球包起来，让地球变暖了。气候变化会影响动物、植物，还有我们生活的地方，所以我们要保护地球，减少这些气体，让地球变得更健康。',\n",
       "  {'input': '什么是气候变化？',\n",
       "   'classification': {'branch': 'simplified',\n",
       "    'metrics': {'prompt_tokens': 40,\n",
       "     'system_tokens': 18,\n",
       "     'model': 'openai/gpt-4.1-mini',\n",
       "     'temperature': 0.7,\n",
       "     'max_tokens': 500,\n",
       "     'timestamp': 1752237549.0739963,\n",
       "     'latency': 12.277320623397827,\n",
       "     'response_tokens': 5,\n",
       "     'total_tokens': 63,\n",
       "     'token_efficiency': 0.08620689655172414,\n",
       "     'tokens_per_second': 0.40725498285604095}},\n",
       "   'execution': {'branch': 'simplified',\n",
       "    'response': '好的！气候变化就是说地球的天气和气温慢慢地发生了大变化。比如，有时候会变得比以前更热，或者下雨和下雪的方式也不一样了。这个变化是因为人们用汽车、工厂和砍树，让空气里有了很多叫做“二氧化碳”的气体，这些气体就像一层厚厚的毯子把地球包起来，让地球变暖了。气候变化会影响动物、植物，还有我们生活的地方，所以我们要保护地球，减少这些气体，让地球变得更健康。',\n",
       "    'metrics': {'prompt_tokens': 33,\n",
       "     'system_tokens': 27,\n",
       "     'model': 'openai/gpt-4.1-mini',\n",
       "     'temperature': 0.7,\n",
       "     'max_tokens': 500,\n",
       "     'timestamp': 1752237561.351317,\n",
       "     'latency': 1.4283909797668457,\n",
       "     'response_tokens': 215,\n",
       "     'total_tokens': 275,\n",
       "     'token_efficiency': 3.5833333333333335,\n",
       "     'tokens_per_second': 150.51901268313398}}}),\n",
       " ('我该如何提高公众演讲技巧？',\n",
       "  '提高公众演讲技巧，关键在于系统练习和有效准备。以下是具体、可操作的建议：\\n\\n1. 明确演讲目标和受众  \\n   - 在准备演讲前，明确你想传达的核心信息。  \\n   - 了解听众的背景、兴趣和需求，调整内容和语言风格。\\n\\n2. 制定结构清晰的演讲大纲  \\n   - 开头吸引注意力（故事、问题、数据等）。  \\n   - 主体部分分点阐述，逻辑清晰。  \\n   - 结尾总结重点并呼吁行动。\\n\\n3. 多次练习  \\n   - 对着镜子练习，注意表情和肢体语言。  \\n   - 用手机录音或录像，回看并改进。  \\n   - 进行模拟演讲，邀请朋友或同事给予反馈。\\n\\n4. 控制紧张情绪  \\n   - 演讲前深呼吸，做放松练习。  \\n   - 通过充分准备建立自信。  \\n   - 视听众为朋友，减少心理压力。\\n\\n5. 注重非语言沟通  \\n   - 保持眼神交流，增强互动感。  \\n   - 使用适当的手势辅助表达。  \\n   - 控制语速和音量，避免单调。\\n\\n6. 利用视觉辅助工具  \\n   - 制作简洁明了的PPT或图表，突出重点。  \\n   - 不要过度依赖幻灯片，保持与听众的互动。\\n\\n7. 持续学习和改进  \\n   - 观看优秀演讲视频，学习技巧。  \\n   - 参加演讲培训班或加入演讲俱乐部（如Toastmasters）。  \\n   - 不断积累演讲经验，逐步提升。\\n\\n通过以上步骤，逐步提升你的公众演讲能力，做到内容丰富、表达自信、感染力强。',\n",
       "  {'input': '我该如何提高公众演讲技巧？',\n",
       "   'classification': {'branch': 'practical',\n",
       "    'metrics': {'prompt_tokens': 46,\n",
       "     'system_tokens': 18,\n",
       "     'model': 'openai/gpt-4.1-mini',\n",
       "     'temperature': 0.7,\n",
       "     'max_tokens': 500,\n",
       "     'timestamp': 1752237562.8027022,\n",
       "     'latency': 0.7645018100738525,\n",
       "     'response_tokens': 5,\n",
       "     'total_tokens': 69,\n",
       "     'token_efficiency': 0.078125,\n",
       "     'tokens_per_second': 6.54020688259324}},\n",
       "   'execution': {'branch': 'practical',\n",
       "    'response': '提高公众演讲技巧，关键在于系统练习和有效准备。以下是具体、可操作的建议：\\n\\n1. 明确演讲目标和受众  \\n   - 在准备演讲前，明确你想传达的核心信息。  \\n   - 了解听众的背景、兴趣和需求，调整内容和语言风格。\\n\\n2. 制定结构清晰的演讲大纲  \\n   - 开头吸引注意力（故事、问题、数据等）。  \\n   - 主体部分分点阐述，逻辑清晰。  \\n   - 结尾总结重点并呼吁行动。\\n\\n3. 多次练习  \\n   - 对着镜子练习，注意表情和肢体语言。  \\n   - 用手机录音或录像，回看并改进。  \\n   - 进行模拟演讲，邀请朋友或同事给予反馈。\\n\\n4. 控制紧张情绪  \\n   - 演讲前深呼吸，做放松练习。  \\n   - 通过充分准备建立自信。  \\n   - 视听众为朋友，减少心理压力。\\n\\n5. 注重非语言沟通  \\n   - 保持眼神交流，增强互动感。  \\n   - 使用适当的手势辅助表达。  \\n   - 控制语速和音量，避免单调。\\n\\n6. 利用视觉辅助工具  \\n   - 制作简洁明了的PPT或图表，突出重点。  \\n   - 不要过度依赖幻灯片，保持与听众的互动。\\n\\n7. 持续学习和改进  \\n   - 观看优秀演讲视频，学习技巧。  \\n   - 参加演讲培训班或加入演讲俱乐部（如Toastmasters）。  \\n   - 不断积累演讲经验，逐步提升。\\n\\n通过以上步骤，逐步提升你的公众演讲能力，做到内容丰富、表达自信、感染力强。',\n",
       "    'metrics': {'prompt_tokens': 35,\n",
       "     'system_tokens': 19,\n",
       "     'model': 'openai/gpt-4.1-mini',\n",
       "     'temperature': 0.7,\n",
       "     'max_tokens': 500,\n",
       "     'timestamp': 1752237563.567204,\n",
       "     'latency': 3.452548027038574,\n",
       "     'response_tokens': 613,\n",
       "     'total_tokens': 667,\n",
       "     'token_efficiency': 11.351851851851851,\n",
       "     'tokens_per_second': 177.5500283267026}}})]"
      ]
     },
     "execution_count": 16,
     "metadata": {},
     "output_type": "execute_result"
    }
   ],
   "source": [
    "example_conditional_brancher()"
   ]
  },
  {
   "cell_type": "code",
   "execution_count": 23,
   "id": "1f8a543d",
   "metadata": {},
   "outputs": [
    {
     "name": "stderr",
     "output_type": "stream",
     "text": [
      "2025-07-11 20:43:45,991 - httpx - INFO - HTTP Request: POST https://models.github.ai/inference/chat/completions \"HTTP/1.1 200 OK\"\n",
      "2025-07-11 20:43:45,997 - __main__ - INFO - 未能从响应中解析出各部分\n"
     ]
    },
    {
     "data": {
      "text/html": [
       "<h2>自我批评结果</h2>"
      ],
      "text/plain": [
       "<IPython.core.display.HTML object>"
      ]
     },
     "metadata": {},
     "output_type": "display_data"
    },
    {
     "data": {
      "text/html": [
       "<h3>输入</h3>"
      ],
      "text/plain": [
       "<IPython.core.display.HTML object>"
      ]
     },
     "metadata": {},
     "output_type": "display_data"
    },
    {
     "data": {
      "text/markdown": [
       "第一次世界大战的主要原因是什么，它们是如何导致冲突的？"
      ],
      "text/plain": [
       "<IPython.core.display.Markdown object>"
      ]
     },
     "metadata": {},
     "output_type": "display_data"
    },
    {
     "data": {
      "text/html": [
       "<h3>指标</h3>"
      ],
      "text/plain": [
       "<IPython.core.display.HTML object>"
      ]
     },
     "metadata": {},
     "output_type": "display_data"
    },
    {
     "data": {
      "text/markdown": [
       "```\n",
       "提示令牌数: 189 | 响应令牌数: 790 | 总令牌数: 992 | 延迟: 4.59秒 | 令牌效率: 3.91\n",
       "```"
      ],
      "text/plain": [
       "<IPython.core.display.Markdown object>"
      ]
     },
     "metadata": {},
     "output_type": "display_data"
    },
    {
     "data": {
      "image/png": "[encoded data removed]",
      "text/plain": [
       "<Figure size 1200x800 with 4 Axes>"
      ]
     },
     "metadata": {},
     "output_type": "display_data"
    },
    {
     "data": {
      "text/plain": [
       "('第1步：初始回答\\n\\n第一次世界大战的主要原因包括军事同盟体系的形成、民族主义的兴起、军备竞赛和帝国主义的扩张，以及直接导火索——萨拉热窝事件。具体来说，19世纪末和20世纪初，欧洲列强为了保护自身利益，建立了复杂的军事同盟体系，如三国协约（英国、法国、俄罗斯）和三国同盟（德国、奥匈帝国、意大利）。这种体系使得局部冲突容易升级为大规模战争。\\n\\n民族主义的兴起激发了各民族对独立和国家利益的追求，特别是在奥匈帝国和巴尔干地区，激化了紧张局势。与此同时，主要大国之间的军备竞赛加剧了紧张感，尤其是德国和英国在海军力量上的竞争。帝国主义的扩张导致了殖民地争夺和利益冲突，进一步加剧了大国间的敌对。\\n\\n1914年6月28日，奥匈帝国皇储弗朗茨·斐迪南大公在萨拉热窝被塞尔维亚民族主义者刺杀，这一事件成为战争的直接导火索。随后，奥匈帝国向塞尔维亚宣战，因同盟体系的连锁反应，欧洲迅速陷入全面战争。\\n\\n第2步：批判性审查\\n\\n- 事实准确性：初始回答整体准确，涵盖了主要原因和导火索。\\n- 缺失重要信息：未提及“危机事件”（如摩洛哥危机、巴尔干战争）对加剧紧张的影响；未强调“德国的威胁感”及其对欧洲平衡的冲击；未提及奥匈帝国对塞尔维亚的强硬态度和德国的支持。\\n- 潜在偏见：回答较为中立，但未表现出各方责任的复杂性，有简化倾向。\\n- 不确定之处：对帝国主义和军备竞赛的具体表现和影响可以进一步细化。\\n\\n第3步：改进的最终回答\\n\\n第一次世界大战的主要原因是多方面且复杂的，主要包括军事同盟体系的',\n",
       " {'input': '第一次世界大战的主要原因是什么，它们是如何导致冲突的？',\n",
       "  'full_response': '第1步：初始回答\\n\\n第一次世界大战的主要原因包括军事同盟体系的形成、民族主义的兴起、军备竞赛和帝国主义的扩张，以及直接导火索——萨拉热窝事件。具体来说，19世纪末和20世纪初，欧洲列强为了保护自身利益，建立了复杂的军事同盟体系，如三国协约（英国、法国、俄罗斯）和三国同盟（德国、奥匈帝国、意大利）。这种体系使得局部冲突容易升级为大规模战争。\\n\\n民族主义的兴起激发了各民族对独立和国家利益的追求，特别是在奥匈帝国和巴尔干地区，激化了紧张局势。与此同时，主要大国之间的军备竞赛加剧了紧张感，尤其是德国和英国在海军力量上的竞争。帝国主义的扩张导致了殖民地争夺和利益冲突，进一步加剧了大国间的敌对。\\n\\n1914年6月28日，奥匈帝国皇储弗朗茨·斐迪南大公在萨拉热窝被塞尔维亚民族主义者刺杀，这一事件成为战争的直接导火索。随后，奥匈帝国向塞尔维亚宣战，因同盟体系的连锁反应，欧洲迅速陷入全面战争。\\n\\n第2步：批判性审查\\n\\n- 事实准确性：初始回答整体准确，涵盖了主要原因和导火索。\\n- 缺失重要信息：未提及“危机事件”（如摩洛哥危机、巴尔干战争）对加剧紧张的影响；未强调“德国的威胁感”及其对欧洲平衡的冲击；未提及奥匈帝国对塞尔维亚的强硬态度和德国的支持。\\n- 潜在偏见：回答较为中立，但未表现出各方责任的复杂性，有简化倾向。\\n- 不确定之处：对帝国主义和军备竞赛的具体表现和影响可以进一步细化。\\n\\n第3步：改进的最终回答\\n\\n第一次世界大战的主要原因是多方面且复杂的，主要包括军事同盟体系的',\n",
       "  'sections': {'full_response': '第1步：初始回答\\n\\n第一次世界大战的主要原因包括军事同盟体系的形成、民族主义的兴起、军备竞赛和帝国主义的扩张，以及直接导火索——萨拉热窝事件。具体来说，19世纪末和20世纪初，欧洲列强为了保护自身利益，建立了复杂的军事同盟体系，如三国协约（英国、法国、俄罗斯）和三国同盟（德国、奥匈帝国、意大利）。这种体系使得局部冲突容易升级为大规模战争。\\n\\n民族主义的兴起激发了各民族对独立和国家利益的追求，特别是在奥匈帝国和巴尔干地区，激化了紧张局势。与此同时，主要大国之间的军备竞赛加剧了紧张感，尤其是德国和英国在海军力量上的竞争。帝国主义的扩张导致了殖民地争夺和利益冲突，进一步加剧了大国间的敌对。\\n\\n1914年6月28日，奥匈帝国皇储弗朗茨·斐迪南大公在萨拉热窝被塞尔维亚民族主义者刺杀，这一事件成为战争的直接导火索。随后，奥匈帝国向塞尔维亚宣战，因同盟体系的连锁反应，欧洲迅速陷入全面战争。\\n\\n第2步：批判性审查\\n\\n- 事实准确性：初始回答整体准确，涵盖了主要原因和导火索。\\n- 缺失重要信息：未提及“危机事件”（如摩洛哥危机、巴尔干战争）对加剧紧张的影响；未强调“德国的威胁感”及其对欧洲平衡的冲击；未提及奥匈帝国对塞尔维亚的强硬态度和德国的支持。\\n- 潜在偏见：回答较为中立，但未表现出各方责任的复杂性，有简化倾向。\\n- 不确定之处：对帝国主义和军备竞赛的具体表现和影响可以进一步细化。\\n\\n第3步：改进的最终回答\\n\\n第一次世界大战的主要原因是多方面且复杂的，主要包括军事同盟体系的'},\n",
       "  'metrics': {'prompt_tokens': 189,\n",
       "   'system_tokens': 13,\n",
       "   'model': 'openai/gpt-4.1-mini',\n",
       "   'temperature': 0.7,\n",
       "   'max_tokens': 500,\n",
       "   'timestamp': 1752237821.406961,\n",
       "   'latency': 4.589985609054565,\n",
       "   'response_tokens': 790,\n",
       "   'total_tokens': 992,\n",
       "   'token_efficiency': 3.910891089108911,\n",
       "   'tokens_per_second': 172.11382938577935}})"
      ]
     },
     "execution_count": 23,
     "metadata": {},
     "output_type": "execute_result"
    }
   ],
   "source": [
    "example_self_critique()"
   ]
  },
  {
   "cell_type": "code",
   "execution_count": 24,
   "id": "7e742eb0",
   "metadata": {},
   "outputs": [
    {
     "name": "stderr",
     "output_type": "stream",
     "text": [
      "2025-07-11 20:43:59,456 - httpx - INFO - HTTP Request: POST https://models.github.ai/inference/chat/completions \"HTTP/1.1 200 OK\"\n",
      "2025-07-11 20:43:59,460 - __main__ - INFO - 正在验证第 1 次尝试\n",
      "2025-07-11 20:43:59,462 - __main__ - INFO - 第 1 次尝试获得有效回答\n"
     ]
    },
    {
     "data": {
      "text/html": [
       "<h2>外部验证结果</h2>"
      ],
      "text/plain": [
       "<IPython.core.display.HTML object>"
      ]
     },
     "metadata": {},
     "output_type": "display_data"
    },
    {
     "data": {
      "text/html": [
       "<h3>输入</h3>"
      ],
      "text/plain": [
       "<IPython.core.display.HTML object>"
      ]
     },
     "metadata": {},
     "output_type": "display_data"
    },
    {
     "data": {
      "text/markdown": [
       "编写一个Python函数来检查字符串是否为回文。"
      ],
      "text/plain": [
       "<IPython.core.display.Markdown object>"
      ]
     },
     "metadata": {},
     "output_type": "display_data"
    },
    {
     "data": {
      "text/html": [
       "<h3>第 1 次尝试</h3>"
      ],
      "text/plain": [
       "<IPython.core.display.HTML object>"
      ]
     },
     "metadata": {},
     "output_type": "display_data"
    },
    {
     "data": {
      "text/html": [
       "<h4>回答：</h4>"
      ],
      "text/plain": [
       "<IPython.core.display.HTML object>"
      ]
     },
     "metadata": {},
     "output_type": "display_data"
    },
    {
     "data": {
      "text/markdown": [
       "当然！下面是一个简单的Python函数，用来检查一个字符串是否为回文（即正着读和反着读都一样）：\n",
       "\n",
       "```python\n",
       "def is_palindrome(s: str) -> bool:\n",
       "    # 去除字符串中的空格，并转为统一大小写\n",
       "    s = s.replace(\" \", \"\").lower()\n",
       "    # 判断字符串是否等于其反转\n",
       "    return s == s[::-1]\n",
       "\n",
       "# 测试\n",
       "print(is_palindrome(\"level\"))       # True\n",
       "print(is_palindrome(\"A man a plan a canal Panama\"))  # True\n",
       "print(is_palindrome(\"hello\"))       # False\n",
       "```\n",
       "\n",
       "这个函数会忽略大小写和空格。如果你还想忽略标点符号，可以进一步处理字符串。需要的话我也可以帮你写。"
      ],
      "text/plain": [
       "<IPython.core.display.Markdown object>"
      ]
     },
     "metadata": {},
     "output_type": "display_data"
    },
    {
     "data": {
      "text/html": [
       "<h4>验证结果：</h4>"
      ],
      "text/plain": [
       "<IPython.core.display.HTML object>"
      ]
     },
     "metadata": {},
     "output_type": "display_data"
    },
    {
     "data": {
      "text/html": [
       "<p style='color: green; font-weight: bold;'>✓ 有效</p>"
      ],
      "text/plain": [
       "<IPython.core.display.HTML object>"
      ]
     },
     "metadata": {},
     "output_type": "display_data"
    },
    {
     "data": {
      "text/html": [
       "<h4>指标：</h4>"
      ],
      "text/plain": [
       "<IPython.core.display.HTML object>"
      ]
     },
     "metadata": {},
     "output_type": "display_data"
    },
    {
     "data": {
      "text/markdown": [
       "```\n",
       "提示令牌数: 14 | 响应令牌数: 193 | 总令牌数: 220 | 延迟: 2.35秒 | 令牌效率: 7.15\n",
       "```"
      ],
      "text/plain": [
       "<IPython.core.display.Markdown object>"
      ]
     },
     "metadata": {},
     "output_type": "display_data"
    },
    {
     "data": {
      "text/html": [
       "<h3>汇总</h3>"
      ],
      "text/plain": [
       "<IPython.core.display.HTML object>"
      ]
     },
     "metadata": {},
     "output_type": "display_data"
    },
    {
     "data": {
      "text/markdown": [
       "\n",
       "        - 最终状态: **✓ 有效**\n",
       "        - 总尝试次数: 1\n",
       "        - 总令牌数: 220\n",
       "        - 总延迟: 2.35秒\n",
       "        "
      ],
      "text/plain": [
       "<IPython.core.display.Markdown object>"
      ]
     },
     "metadata": {},
     "output_type": "display_data"
    },
    {
     "data": {
      "image/png": "[encoded data removed]",
      "text/plain": [
       "<Figure size 1200x800 with 4 Axes>"
      ]
     },
     "metadata": {},
     "output_type": "display_data"
    },
    {
     "data": {
      "text/plain": [
       "('当然！下面是一个简单的Python函数，用来检查一个字符串是否为回文（即正着读和反着读都一样）：\\n\\n```python\\ndef is_palindrome(s: str) -> bool:\\n    # 去除字符串中的空格，并转为统一大小写\\n    s = s.replace(\" \", \"\").lower()\\n    # 判断字符串是否等于其反转\\n    return s == s[::-1]\\n\\n# 测试\\nprint(is_palindrome(\"level\"))       # True\\nprint(is_palindrome(\"A man a plan a canal Panama\"))  # True\\nprint(is_palindrome(\"hello\"))       # False\\n```\\n\\n这个函数会忽略大小写和空格。如果你还想忽略标点符号，可以进一步处理字符串。需要的话我也可以帮你写。',\n",
       " {'input': '编写一个Python函数来检查字符串是否为回文。',\n",
       "  'attempts': [{'attempt': 1,\n",
       "    'response': '当然！下面是一个简单的Python函数，用来检查一个字符串是否为回文（即正着读和反着读都一样）：\\n\\n```python\\ndef is_palindrome(s: str) -> bool:\\n    # 去除字符串中的空格，并转为统一大小写\\n    s = s.replace(\" \", \"\").lower()\\n    # 判断字符串是否等于其反转\\n    return s == s[::-1]\\n\\n# 测试\\nprint(is_palindrome(\"level\"))       # True\\nprint(is_palindrome(\"A man a plan a canal Panama\"))  # True\\nprint(is_palindrome(\"hello\"))       # False\\n```\\n\\n这个函数会忽略大小写和空格。如果你还想忽略标点符号，可以进一步处理字符串。需要的话我也可以帮你写。',\n",
       "    'metrics': {'prompt_tokens': 14,\n",
       "     'system_tokens': 13,\n",
       "     'model': 'openai/gpt-4.1-mini',\n",
       "     'temperature': 0.7,\n",
       "     'max_tokens': 500,\n",
       "     'timestamp': 1752237837.1085134,\n",
       "     'latency': 2.3510968685150146,\n",
       "     'response_tokens': 193,\n",
       "     'total_tokens': 220,\n",
       "     'token_efficiency': 7.148148148148148,\n",
       "     'tokens_per_second': 82.08934416296572},\n",
       "    'validation': {'is_valid': True,\n",
       "     'feedback': '代码语法有效。',\n",
       "     'pending': False}}],\n",
       "  'final_response': '当然！下面是一个简单的Python函数，用来检查一个字符串是否为回文（即正着读和反着读都一样）：\\n\\n```python\\ndef is_palindrome(s: str) -> bool:\\n    # 去除字符串中的空格，并转为统一大小写\\n    s = s.replace(\" \", \"\").lower()\\n    # 判断字符串是否等于其反转\\n    return s == s[::-1]\\n\\n# 测试\\nprint(is_palindrome(\"level\"))       # True\\nprint(is_palindrome(\"A man a plan a canal Panama\"))  # True\\nprint(is_palindrome(\"hello\"))       # False\\n```\\n\\n这个函数会忽略大小写和空格。如果你还想忽略标点符号，可以进一步处理字符串。需要的话我也可以帮你写。',\n",
       "  'is_valid': True,\n",
       "  'validation_feedback': '代码语法有效。',\n",
       "  'attempts_count': 1})"
      ]
     },
     "execution_count": 24,
     "metadata": {},
     "output_type": "execute_result"
    }
   ],
   "source": [
    "example_external_validation()"
   ]
  }
 ],
 "metadata": {
  "kernelspec": {
   "display_name": "foundry",
   "language": "python",
   "name": "python3"
  },
  "language_info": {
   "codemirror_mode": {
    "name": "ipython",
    "version": 3
   },
   "file_extension": ".py",
   "mimetype": "text/x-python",
   "name": "python",
   "nbconvert_exporter": "python",
   "pygments_lexer": "ipython3",
   "version": "3.12.9"
  }
 },
 "nbformat": 4,
 "nbformat_minor": 5
}
