{
 "cells": [
  {
   "cell_type": "markdown",
   "id": "af3d3ec8",
   "metadata": {},
   "source": [
    "最简提示探索：上下文工程基础\n",
    "==========================\n",
    "\n",
    "本笔记本通过探索最小、原子的提示及其对大语言模型（LLM）输出和行为的直接影响，介绍了上下文工程的核心原理。\n",
    "\n",
    "涵盖的关键概念：\n",
    "1. 构建原子提示，实现最大清晰度和可控性\n",
    "2. 通过标记数和模型响应质量衡量有效性\n",
    "3. 迭代修改提示，实现快速反馈循环\n",
    "4. 观察上下文漂移和最小提示边界\n",
    "5. 从原子提示扩展到协议化外壳的基础\n",
    "\n",
    "用法：\n",
    "    # 在 Jupyter 或 Colab 中：\n",
    "    %run 01_min_prompt.py\n",
    "    # 或者\n",
    "    # 独立编辑并运行每个部分，实验提示效果\n",
    "\n",
    "注意事项：\n",
    "    - 本笔记本的每个部分都为动手实验而设计。\n",
    "    - 修改提示，观察分词和输出保真度的变化。\n",
    "    - 可作为构建高级上下文工程工作流的基础。"
   ]
  },
  {
   "cell_type": "code",
   "execution_count": 23,
   "id": "e2561012",
   "metadata": {},
   "outputs": [],
   "source": [
    "import os\n",
    "import time\n",
    "import json\n",
    "from typing import Dict, List, Any, Tuple, Optional\n",
    "import matplotlib.pyplot as plt\n",
    "# 引用client\n",
    "from client import chat_completion\n",
    "import tiktoken\n",
    "\n",
    "# 如果你使用其他服务商，请相应调整\n",
    "# 用于演示的简单 LLM 类\n",
    "class SimpleLLM:\n",
    "    \"\"\"最简 LLM 接口演示。\"\"\"\n",
    "    \n",
    "    def __init__(self, model_name: str = \"dummy-model\"):\n",
    "        \"\"\"初始化 LLM 接口。\"\"\"\n",
    "        self.model_name = model_name\n",
    "        self.total_tokens_used = 0\n",
    "        self.total_requests = 0\n",
    "        \n",
    "    def count_tokens(self, text: str) -> int:\n",
    "        \"\"\"\n",
    "        使用分词器统计文本中的 token 数量。\n",
    "        推荐使用 tiktoken 或 transformers 分词器。\n",
    "        \"\"\"\n",
    "        try:\n",
    "            enc = tiktoken.get_encoding(\"cl100k_base\")\n",
    "            return len(enc.encode(text))\n",
    "        except ImportError:\n",
    "            # 如果未安装 tiktoken，则回退为简单分词\n",
    "            return len(text.split())\n",
    "    \n",
    "    def generate(self, prompt: str) -> str:\n",
    "        \"\"\"\n",
    "        Generate text based on prompt using the chat_completion client.\n",
    "        Also tracks token usage and request count.\n",
    "        \"\"\"\n",
    "        # Count tokens and update stats\n",
    "        tokens = self.count_tokens(prompt)\n",
    "        self.total_tokens_used += tokens\n",
    "        self.total_requests += 1\n",
    "        \n",
    "        # Call the chat_completion client\n",
    "        result = chat_completion(prompt)\n",
    "        return result\n",
    "    \n",
    "    def get_stats(self) -> Dict[str, Any]:\n",
    "        \"\"\"返回使用统计信息。\"\"\"\n",
    "        return {\n",
    "            \"total_tokens\": self.total_tokens_used,\n",
    "            \"total_requests\": self.total_requests,\n",
    "            \"avg_tokens_per_request\": self.total_tokens_used / max(1, self.total_requests)\n",
    "        }\n",
    "    \n",
    "llm = SimpleLLM()"
   ]
  },
  {
   "cell_type": "code",
   "execution_count": 24,
   "id": "8c24b314",
   "metadata": {},
   "outputs": [
    {
     "name": "stdout",
     "output_type": "stream",
     "text": [
      "\n",
      "----- 实验 1：原子提示 -----\n",
      "让我们从最基本的单元开始：一个指令。\n",
      "\n",
      "原子提示: '写一首关于编程的简短诗。'\n",
      "Token 数量: 15\n",
      "\n",
      "生成回复中...\n",
      "\n",
      "回复:\n",
      "敲击指尖如跳舞，  \n",
      "代码行间闪思路。  \n",
      "逻辑编织梦与路，  \n",
      "世界由零一编著。\n"
     ]
    }
   ],
   "source": [
    "# ----- 实验 1：原子提示 -----\n",
    "print(\"\\n----- 实验 1：原子提示 -----\")\n",
    "print(\"让我们从最基本的单元开始：一个指令。\")\n",
    "\n",
    "atomic_prompt = \"写一首关于编程的简短诗。\"\n",
    "tokens = llm.count_tokens(atomic_prompt)\n",
    "\n",
    "print(f\"\\n原子提示: '{atomic_prompt}'\")\n",
    "print(f\"Token 数量: {tokens}\")\n",
    "print(\"\\n生成回复中...\")\n",
    "response = llm.generate(atomic_prompt)\n",
    "print(f\"\\n回复:\\n{response}\")\n"
   ]
  },
  {
   "cell_type": "code",
   "execution_count": 25,
   "id": "9ccd7604",
   "metadata": {},
   "outputs": [
    {
     "name": "stdout",
     "output_type": "stream",
     "text": [
      "\n",
      "----- 实验 2：添加约束 -----\n",
      "现在让我们给原子提示添加约束，观察差异。\n",
      "\n",
      "提示 1: '写一首关于编程的简短诗。'\n",
      "标记数量: 15\n",
      "延迟: 1.6332 秒\n",
      "响应:\n",
      "代码如诗行，  \n",
      "指尖舞飞扬。  \n",
      "逻辑织梦网，  \n",
      "程序见光芒。\n",
      "\n",
      "提示 2: '写一首关于编程的简短诗，要求4行。'\n",
      "标记数量: 20\n",
      "延迟: 2.4552 秒\n",
      "响应:\n",
      "代码如诗行，逻辑自成章，  \n",
      "键下心世界，逐梦在云航。  \n",
      "调试理思绪，光标映微光，  \n",
      "点滴皆创造，智慧竞芬芳。\n",
      "\n",
      "提示 3: '用简单词语写一首关于编程的俳句。'\n",
      "标记数量: 19\n",
      "延迟: 1.8965 秒\n",
      "响应:\n",
      "代码如流水  \n",
      "思路缓缓流淌  \n",
      "灯下夜微明\n"
     ]
    }
   ],
   "source": [
    "# ----- 实验 2：添加约束 -----\n",
    "print(\"\\n----- 实验 2：添加约束 -----\")\n",
    "print(\"现在让我们给原子提示添加约束，观察差异。\")\n",
    "\n",
    "# 让我们创建三个版本，约束逐渐增加\n",
    "prompts = [\n",
    "    \"写一首关于编程的简短诗。\",  # 原始版本\n",
    "    \"写一首关于编程的简短诗，要求4行。\",  # 添加长度约束\n",
    "    \"用简单词语写一首关于编程的俳句。\"  # 格式和词汇约束\n",
    "]\n",
    "\n",
    "# 测量标记数并生成响应\n",
    "results = []\n",
    "for i, prompt in enumerate(prompts):\n",
    "    tokens = llm.count_tokens(prompt)\n",
    "    print(f\"\\n提示 {i+1}: '{prompt}'\")\n",
    "    print(f\"标记数量: {tokens}\")\n",
    "    \n",
    "    start_time = time.time()\n",
    "    response = llm.generate(prompt)\n",
    "    end_time = time.time()\n",
    "    \n",
    "    results.append({\n",
    "        \"prompt\": prompt,\n",
    "        \"tokens\": tokens,\n",
    "        \"response\": response,\n",
    "        \"latency\": end_time - start_time\n",
    "    })\n",
    "    \n",
    "    print(f\"延迟: {results[-1]['latency']:.4f} 秒\")\n",
    "    print(f\"响应:\\n{response}\")\n"
   ]
  },
  {
   "cell_type": "code",
   "execution_count": 26,
   "id": "a7a398ee",
   "metadata": {},
   "outputs": [
    {
     "name": "stdout",
     "output_type": "stream",
     "text": [
      "\n",
      "----- 实验 3：衡量投资回报率曲线 -----\n",
      "让我们探索提示复杂度与输出质量之间的关系。\n"
     ]
    },
    {
     "data": {
      "image/png": "[encoded data removed]",
      "text/plain": [
       "<Figure size 1000x600 with 1 Axes>"
      ]
     },
     "metadata": {},
     "output_type": "display_data"
    }
   ],
   "source": [
    "# ----- 实验 3：衡量投资回报率曲线 -----\n",
    "print(\"\\n----- 实验 3：衡量投资回报率曲线 -----\")\n",
    "print(\"让我们探索提示复杂度与输出质量之间的关系。\")\n",
    "\n",
    "# 在真实的笔记本中，您会为每个响应定义主观质量分数\n",
    "# 对于本演示，我们将使用占位符值\n",
    "quality_scores = [3, 6, 8]  # 1-10分制的占位符主观分数\n",
    "\n",
    "# 绘制标记数与质量的关系图\n",
    "plt.figure(figsize=(10, 6))\n",
    "tokens_list = [r[\"tokens\"] for r in results]\n",
    "plt.plot(tokens_list, quality_scores, marker='o', linestyle='-', color='blue')\n",
    "plt.xlabel('提示中的标记数', fontproperties='SimHei')\n",
    "plt.ylabel('输出质量 (1-10)', fontproperties='SimHei')\n",
    "plt.title('标记-质量投资回报率曲线', fontproperties='SimHei')\n",
    "plt.grid(True)\n",
    "\n",
    "# 添加注释\n",
    "for i, (x, y) in enumerate(zip(tokens_list, quality_scores)):\n",
    "    plt.annotate(f\"提示 {i+1}\", (x, y), textcoords=\"offset points\", \n",
    "                 xytext=(0, 10), ha='center', fontproperties='SimHei')\n",
    "\n",
    "# 显示图表（在 Jupyter 中会内联显示）\n",
    "plt.show()\n"
   ]
  },
  {
   "cell_type": "code",
   "execution_count": 27,
   "id": "563b33ff",
   "metadata": {},
   "outputs": [
    {
     "name": "stdout",
     "output_type": "stream",
     "text": [
      "\n",
      "----- 实验 4：最小上下文增强 -----\n",
      "现在我们将添加最少的上下文来提高输出质量，同时保持较低的标记数。\n",
      "\n",
      "增强提示:\n",
      "'任务：写一首关于编程的俳句。\n",
      "\n",
      "俳句是一种三行诗，每行分别有5、7、5个音节。\n",
      "专注于解决困难bug时的感受。'\n",
      "标记数量: 58\n",
      "\n",
      "响应:\n",
      "深夜独坐，  \n",
      "代码如迷雾散，  \n",
      "一灯微明。\n"
     ]
    }
   ],
   "source": [
    "# ----- 实验 4：最小上下文增强 -----\n",
    "print(\"\\n----- 实验 4：最小上下文增强 -----\")\n",
    "print(\"现在我们将添加最少的上下文来提高输出质量，同时保持较低的标记数。\")\n",
    "\n",
    "# 让我们创建一个带有少量策略性上下文的提示\n",
    "enhanced_prompt = \"\"\"任务：写一首关于编程的俳句。\n",
    "\n",
    "俳句是一种三行诗，每行分别有5、7、5个音节。\n",
    "专注于解决困难bug时的感受。\"\"\"\n",
    "\n",
    "tokens = llm.count_tokens(enhanced_prompt)\n",
    "print(f\"\\n增强提示:\\n'{enhanced_prompt}'\")\n",
    "print(f\"标记数量: {tokens}\")\n",
    "\n",
    "response = llm.generate(enhanced_prompt)\n",
    "print(f\"\\n响应:\\n{response}\")\n"
   ]
  },
  {
   "cell_type": "code",
   "execution_count": 28,
   "id": "a47f4afa",
   "metadata": {},
   "outputs": [
    {
     "name": "stdout",
     "output_type": "stream",
     "text": [
      "\n",
      "----- 实验 5：衡量一致性 -----\n",
      "让我们测试最小提示与增强提示的输出一致性。\n",
      "\n",
      "基础提示一致性分数: 0.5\n",
      "增强提示一致性分数: 0.5\n"
     ]
    }
   ],
   "source": [
    "# ----- 实验 5：衡量一致性 -----\n",
    "print(\"\\n----- 实验 5：衡量一致性 -----\")\n",
    "print(\"让我们测试最小提示与增强提示的输出一致性。\")\n",
    "\n",
    "# 生成多个响应并衡量一致性的函数\n",
    "def measure_consistency(prompt: str, n_samples: int = 3) -> Dict[str, Any]:\n",
    "    \"\"\"生成多个响应并衡量一致性指标。\"\"\"\n",
    "    responses = []\n",
    "    total_tokens = 0\n",
    "    \n",
    "    for _ in range(n_samples):\n",
    "        response = llm.generate(prompt)\n",
    "        responses.append(response)\n",
    "        total_tokens += llm.count_tokens(prompt)\n",
    "    \n",
    "    # 在真实的笔记本中，您会实现适当的一致性指标\n",
    "    # 例如响应之间的语义相似度\n",
    "    consistency_score = 0.5  # 占位符值\n",
    "    \n",
    "    return {\n",
    "        \"prompt\": prompt,\n",
    "        \"responses\": responses,\n",
    "        \"total_tokens\": total_tokens,\n",
    "        \"consistency_score\": consistency_score\n",
    "    }\n",
    "\n",
    "# 比较基础提示与增强提示\n",
    "basic_results = measure_consistency(prompts[0])\n",
    "enhanced_results = measure_consistency(enhanced_prompt)\n",
    "\n",
    "print(f\"\\n基础提示一致性分数: {basic_results['consistency_score']}\")\n",
    "print(f\"增强提示一致性分数: {enhanced_results['consistency_score']}\")\n"
   ]
  },
  {
   "cell_type": "code",
   "execution_count": 29,
   "id": "f132bbf5",
   "metadata": {},
   "outputs": [
    {
     "name": "stdout",
     "output_type": "stream",
     "text": [
      "\n",
      "----- 结论 -----\n",
      "实验的关键见解:\n",
      "1. 即使对提示做很小的改动也会显著影响输出质量\n",
      "2. token数量和质量之间存在一个投资回报率曲线,能找到最佳平衡点\n",
      "3. 添加最小但具有策略性的上下文可以提高一致性\n",
      "4. 最好的提示应该清晰、简洁,并提供恰到好处的上下文\n",
      "\n",
      "本笔记本使用的总token数: 346\n",
      "\n",
      "----- 下一步 -----\n",
      "1. 用真实的LLM API尝试这些实验\n",
      "2. 实现合适的一致性和质量度量指标\n",
      "3. 探索'分子'概念 - 组合多条指令\n",
      "4. 在上下文窗口中尝试少样本示例\n"
     ]
    },
    {
     "data": {
      "text/plain": [
       "'\\n读者练习:\\n\\n1. 将这个笔记本连接到真实的LLM API(OpenAI、Anthropic等)\\n2. 用不同规模的模型测试相同的提示\\n3. 为你关心的任务创建自己的token-质量曲线\\n4. 为你的具体用例找到\"最小可行上下文\"\\n\\n更多高级上下文工程技术请参见 02_expand_context.ipynb!\\n'"
      ]
     },
     "execution_count": 29,
     "metadata": {},
     "output_type": "execute_result"
    }
   ],
   "source": [
    "# ----- 结论 -----\n",
    "print(\"\\n----- 结论 -----\")\n",
    "print(\"实验的关键见解:\")\n",
    "print(\"1. 即使对提示做很小的改动也会显著影响输出质量\")\n",
    "print(\"2. token数量和质量之间存在一个投资回报率曲线,能找到最佳平衡点\") \n",
    "print(\"3. 添加最小但具有策略性的上下文可以提高一致性\")\n",
    "print(\"4. 最好的提示应该清晰、简洁,并提供恰到好处的上下文\")\n",
    "\n",
    "print(\"\\n本笔记本使用的总token数:\", llm.get_stats()[\"total_tokens\"])\n",
    "\n",
    "# ----- 下一步 -----\n",
    "print(\"\\n----- 下一步 -----\")\n",
    "print(\"1. 用真实的LLM API尝试这些实验\")\n",
    "print(\"2. 实现合适的一致性和质量度量指标\") \n",
    "print(\"3. 探索'分子'概念 - 组合多条指令\")\n",
    "print(\"4. 在上下文窗口中尝试少样本示例\")\n",
    "\n",
    "\"\"\"\n",
    "读者练习:\n",
    "\n",
    "1. 将这个笔记本连接到真实的LLM API(OpenAI、Anthropic等)\n",
    "2. 用不同规模的模型测试相同的提示\n",
    "3. 为你关心的任务创建自己的token-质量曲线\n",
    "4. 为你的具体用例找到\"最小可行上下文\"\n",
    "\n",
    "更多高级上下文工程技术请参见 02_expand_context.ipynb!\n",
    "\"\"\"\n",
    "\n",
    "# 如果这是Jupyter笔记本,我们会在这里将结果保存到文件\n",
    "# with open('experiment_results.json', 'w') as f:\n",
    "#     json.dump(results, f, indent=2)\n"
   ]
  }
 ],
 "metadata": {
  "kernelspec": {
   "display_name": "foundry",
   "language": "python",
   "name": "python3"
  },
  "language_info": {
   "codemirror_mode": {
    "name": "ipython",
    "version": 3
   },
   "file_extension": ".py",
   "mimetype": "text/x-python",
   "name": "python",
   "nbconvert_exporter": "python",
   "pygments_lexer": "ipython3",
   "version": "3.12.9"
  }
 },
 "nbformat": 4,
 "nbformat_minor": 5
}
