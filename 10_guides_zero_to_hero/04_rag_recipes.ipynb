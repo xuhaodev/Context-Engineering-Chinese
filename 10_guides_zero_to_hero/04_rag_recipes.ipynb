{
 "cells": [
  {
   "cell_type": "markdown",
   "id": "d1e71c7e",
   "metadata": {},
   "source": [
    "Context-Engineering: RAG 检索增强生成的实践配方\n",
    "=============================================\n",
    "\n",
    "本模块演示了检索增强生成（RAG）模式的实际实现，用于通过外部知识增强大语言模型（LLM）的上下文。\n",
    "我们专注于最小化、高效的实现，突出关键概念，无需复杂的基础设施。\n",
    "\n",
    "涵盖的关键概念：\n",
    "1. 基本 RAG 流水线构建\n",
    "2. 上下文窗口管理与分块策略\n",
    "3. 嵌入与检索技术\n",
    "4. 检索质量与相关性评估\n",
    "5. 上下文集成模式\n",
    "6. 高级 RAG 变体\n",
    "\n",
    "用法：\n",
    "    # 在 Jupyter 或 Colab 中：\n",
    "    %run 04_rag_recipes.py\n",
    "    # 或\n",
    "    from rag_recipes import SimpleRAG, ChunkedRAG, HybridRAG\n"
   ]
  }
 ],
 "metadata": {
  "language_info": {
   "name": "python"
  }
 },
 "nbformat": 4,
 "nbformat_minor": 5
}
